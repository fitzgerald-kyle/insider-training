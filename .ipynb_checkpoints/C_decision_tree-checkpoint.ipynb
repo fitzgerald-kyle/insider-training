{
 "cells": [
  {
   "cell_type": "markdown",
   "id": "14a97e50",
   "metadata": {},
   "source": [
    "## Training with XGBoost\n",
    "Why choose XGBoost instead of a random forest: https://medium.com/geekculture/xgboost-versus-random-forest-898e42870f30 \\\n",
    "A great reference for tuning xgboost:\n",
    "https://towardsdatascience.com/from-zero-to-hero-in-xgboost-tuning-e48b59bfaf58\n",
    "\n",
    "This notebook contains the training of an XGBoost regressor model on insider data, which attempts to predict the maximum 90-day percentage gain of a ticker whose insider(s) made a trade. We use a custom objective function that penalizes overestimates more harshly than underestimates."
   ]
  },
  {
   "cell_type": "code",
   "execution_count": 1,
   "id": "85b09665",
   "metadata": {},
   "outputs": [],
   "source": [
    "%load_ext autoreload\n",
    "%autoreload 1\n",
    "%aimport my_functions\n",
    "\n",
    "import pandas as pd\n",
    "import datetime as dt\n",
    "import numpy as np\n",
    "import matplotlib.pyplot as plt\n",
    "import xgboost as xgb\n",
    "\n",
    "from sklearn.metrics import mean_squared_error, confusion_matrix\n",
    "from sklearn.model_selection import RandomizedSearchCV\n",
    "from operator import itemgetter\n",
    "\n",
    "from my_functions import *\n",
    "\n",
    "plt.style.use('fivethirtyeight')"
   ]
  },
  {
   "cell_type": "code",
   "execution_count": 2,
   "id": "d2801c03-df34-444b-9343-2cf75e10c38e",
   "metadata": {},
   "outputs": [],
   "source": [
    "DAYS_TO_LOOK_BACK = 6  # used for calculating volume volatility and recent-trade counts\n",
    "\n",
    "train_and_cv = prepareForModel(pd.read_csv('data/training_and_cv_data.csv'))\n",
    "\n",
    "startDate = min(train_and_cv.FilingDate) + dt.timedelta(days=DAYS_TO_LOOK_BACK)\n",
    "endDate = max(train_and_cv.FilingDate)\n",
    "splitDate = startDate + dt.timedelta(days=int(0.95*(endDate-startDate).days))\n",
    "\n",
    "train_XY, train_X, train_Y = returnXandY(train_and_cv, \n",
    "                                         dt.date.isoformat(startDate), \n",
    "                                         dt.date.isoformat(splitDate))\n",
    "\n",
    "cv_XY, cv_X, cv_Y = returnXandY(train_and_cv, \n",
    "                                dt.date.isoformat(splitDate+dt.timedelta(days=1)), \n",
    "                                dt.date.isoformat(endDate))"
   ]
  },
  {
   "cell_type": "code",
   "execution_count": 3,
   "id": "9a56ca57",
   "metadata": {},
   "outputs": [
    {
     "name": "stdout",
     "output_type": "stream",
     "text": [
      "train shape: (12044, 17)\n",
      "cv shape: (656, 17)\n"
     ]
    }
   ],
   "source": [
    "print(f'train shape: {train_X.shape}')\n",
    "print(f'cv shape: {cv_X.shape}')"
   ]
  },
  {
   "cell_type": "code",
   "execution_count": 4,
   "id": "43688bcb-49e6-4b59-bc94-1eee5d16a93a",
   "metadata": {},
   "outputs": [],
   "source": [
    "# We'll need this later.\n",
    "def plotLearningCurves(results, losses):\n",
    "    '''\n",
    "    Plot the XGBoost training and cross-validation learning curves for each loss.\n",
    "    \n",
    "    IN:\n",
    "        results (obtained from an XGBoost fit)\n",
    "        losses (List[str]): contains name of each validation metric\n",
    "    '''\n",
    "    fig, axs = plt.subplots(1, len(losses), figsize=(6.4*len(losses), 4.8))\n",
    "    if type(axs) != np.ndarray: axs = [axs]\n",
    "        \n",
    "    for i, name in enumerate(losses):\n",
    "        axs[i].plot(results['validation_0'][name], label='train')\n",
    "        axs[i].plot(results['validation_1'][name], label='cv')\n",
    "        axs[i].set_xlabel('Epoch')\n",
    "        axs[i].set_ylabel('Loss')\n",
    "        axs[i].set_title('Learning Curve: ' + name)\n",
    "        axs[i].legend()\n",
    "\n",
    "    plt.show()"
   ]
  },
  {
   "cell_type": "markdown",
   "id": "d8c0ab75-b49a-41e3-9ae7-efc697c98e4e",
   "metadata": {},
   "source": [
    "Let's create an XGBRegressor object and tune the hyperparameters with RandomizedSearchCV to help performance on cv:"
   ]
  },
  {
   "cell_type": "code",
   "execution_count": 5,
   "id": "eb609bd0-d8b6-4bae-9122-634d2e35de00",
   "metadata": {},
   "outputs": [],
   "source": [
    "# Create parameter grid\n",
    "parameters = {\n",
    "    'learning_rate': [1e-2, 5e-3, 1e-3],     # smaller = more conservative\n",
    "    'min_split_loss' : [0.1, 0.5, 1.0],  # larger = more conservative\n",
    "    'max_depth': [4, 5, 6, 7],           \n",
    "    'max_delta_step': [0., 1.],         # can help with imbalanced classes (e.g. more buys than sells)\n",
    "    'colsample_bytree': [0.6, 0.8, 1.0],\n",
    "    'subsample': [0.5, 0.6, 0.7],           # lower values should help with overfitting\n",
    "    'reg_lambda': [1., 2., 5., 10.],          # regularization controls overfitting\n",
    "    'min_child_weight': [1., 3., 5.],\n",
    "    'n_estimators': [100, 250, 500]\n",
    "}"
   ]
  },
  {
   "cell_type": "code",
   "execution_count": 6,
   "id": "327dd3b9-c199-4ed7-94df-ba082bc53658",
   "metadata": {},
   "outputs": [
    {
     "name": "stdout",
     "output_type": "stream",
     "text": [
      "Fitting 5 folds for each of 10 candidates, totalling 50 fits\n"
     ]
    }
   ],
   "source": [
    "xgb_rscv = RandomizedSearchCV(\n",
    "    xgb.XGBRegressor(verbosity=1, early_stopping_rounds=10, tree_method='hist'),\n",
    "    param_distributions=parameters,\n",
    "    verbose=1,\n",
    "    random_state=40\n",
    ")\n",
    "\n",
    "xgb_rscv_model = xgb_rscv.fit(\n",
    "    train_X, \n",
    "    train_Y, \n",
    "    eval_set=[(train_X, train_Y), (cv_X, cv_Y)],\n",
    "    verbose=0\n",
    ")"
   ]
  },
  {
   "cell_type": "code",
   "execution_count": 7,
   "id": "cf57f380-8463-44dc-ad3f-91be9e576567",
   "metadata": {},
   "outputs": [
    {
     "name": "stdout",
     "output_type": "stream",
     "text": [
      "Best learning_rate, min_split_loss, max_depth, max_delta_step, colsample_bytree, subsample,\n",
      "reg_lambda, min_child_weight, n_estimators:\n",
      "(0.005, 0.1, 7, 0.0, 0.8, 0.6, 10.0, 5.0, 500)\n"
     ]
    }
   ],
   "source": [
    "print('Best learning_rate, min_split_loss, max_depth, max_delta_step, colsample_bytree, subsample,\\n' +\n",
    "      'reg_lambda, min_child_weight, n_estimators:\\n' +\n",
    "      f'''{itemgetter(\n",
    "        'learning_rate', 'min_split_loss', 'max_depth', 'max_delta_step', 'colsample_bytree', 'subsample', \n",
    "        'reg_lambda', 'min_child_weight', 'n_estimators'\n",
    "       )(xgb_rscv_model.best_estimator_.get_params())\n",
    "      }''')"
   ]
  },
  {
   "cell_type": "code",
   "execution_count": 8,
   "id": "5e4df646-52b9-441a-8101-94861453b326",
   "metadata": {},
   "outputs": [
    {
     "data": {
      "image/png": "[encoded data removed]",
      "text/plain": [
       "<Figure size 460.8x345.6 with 1 Axes>"
      ]
     },
     "metadata": {
      "needs_background": "light"
     },
     "output_type": "display_data"
    }
   ],
   "source": [
    "xgb_model_best = xgb.XGBRegressor(**xgb_rscv_model.best_estimator_.get_params()).fit(\n",
    "    train_X,\n",
    "    train_Y, \n",
    "    eval_set=[(train_X, train_Y), (cv_X, cv_Y)],\n",
    "    verbose=0\n",
    ")\n",
    "\n",
    "results = xgb_model_best.evals_result()\n",
    "\n",
    "plotLearningCurves(results, ['rmse'])"
   ]
  },
  {
   "cell_type": "code",
   "execution_count": 9,
   "id": "0f80f355-0381-46d7-ac67-ffa0679005eb",
   "metadata": {},
   "outputs": [
    {
     "data": {
      "image/png": "[encoded data removed]",
      "text/plain": [
       "<Figure size 432x288 with 1 Axes>"
      ]
     },
     "metadata": {
      "needs_background": "light"
     },
     "output_type": "display_data"
    }
   ],
   "source": [
    "xgb.plot_importance(xgb_model_best)\n",
    "plt.show()"
   ]
  },
  {
   "cell_type": "markdown",
   "id": "a91d0f31-3ba3-4d9d-9af5-3d751d06e63a",
   "metadata": {},
   "source": [
    "### Let's visualize our predictions vs. the actual price percentage increase."
   ]
  },
  {
   "cell_type": "code",
   "execution_count": 10,
   "id": "2449d354-4460-4016-bb66-34de23192ff7",
   "metadata": {},
   "outputs": [
    {
     "data": {
      "image/png": "[encoded data removed]",
      "text/plain": [
       "<Figure size 432x288 with 1 Axes>"
      ]
     },
     "metadata": {
      "needs_background": "light"
     },
     "output_type": "display_data"
    }
   ],
   "source": [
    "cv_Y_preds = xgb_model_best.predict(cv_X)\n",
    "plotPredictedVsActual(cv_Y_preds, cv_Y)"
   ]
  },
  {
   "cell_type": "markdown",
   "id": "6edacb78-af7d-4e2e-aa65-a9492b255692",
   "metadata": {},
   "source": [
    "### Everything below the dotted line is an overestimate.\n",
    "\n",
    "That's not good: we don't want to be confident that a stock will gain a lot, only for it to underperform! On the contrary, if a stock outperforms our expectations and we've bought into it at all, then that's great!\n",
    "\n",
    "Let's define a custom objective function that penalizes overestimates more heavily than underestimates. It will be an asymmetric mean squared error where we penalize overestimates 100 times more than underestimates. We want to be ***really*** confident that a ticker will run."
   ]
  },
  {
   "cell_type": "code",
   "execution_count": 11,
   "id": "3c96defa-2539-46c7-a4e5-aa5b28d9178a",
   "metadata": {},
   "outputs": [],
   "source": [
    "def asymmetric_loss(wgt):\n",
    "    '''This is our custom objective loss function that favors either underestimates (wgt > 1)\n",
    "    or overestimates (0 < wgt < 1).\n",
    "    \n",
    "    minBool is a boolean that specifies whether or not the loss is minimized, because XGBoost wants to maximize \n",
    "    '''\n",
    "    def custom_loss(train, y_pred):\n",
    "        # I'm honestly confused about when a DMatrix is passed vs. an ndarray\n",
    "        if type(train) != np.ndarray: train = dtrain.get_label()\n",
    "        \n",
    "        diff = wgt/2*(y_pred-train)**2 * (train < y_pred).astype(float) + \\\n",
    "                1/2*(y_pred-train)**2 * (train >= y_pred).astype(float)\n",
    "        \n",
    "        loss = np.mean(diff, axis=-1)\n",
    "\n",
    "        return loss\n",
    "    return custom_loss\n",
    "\n",
    "def asymmetric_grads(wgt):\n",
    "    '''\n",
    "    Custom objective that penalizes overestimates more heavily if wgt > 1, and underestimates if 0 < wgt < 1.\n",
    "    loss(train-predt) = {wgt/2*(train-predt)^2 if train < predt; \n",
    "                        1/2*(train-predt)^2 if train >= predt}\n",
    "    '''\n",
    "    def custom_grads(train, predt):\n",
    "        grad = -wgt*(train-predt)*(train<predt).astype(float) - (train-predt)*(train>=predt).astype(float)\n",
    "        hess = wgt*(train<predt).astype(float) + (train>=predt).astype(float)\n",
    "        \n",
    "        return grad, hess\n",
    "    return custom_grads"
   ]
  },
  {
   "cell_type": "code",
   "execution_count": 12,
   "id": "90cad78e-b5dd-4fcf-9707-3dc0320f6c1a",
   "metadata": {},
   "outputs": [
    {
     "name": "stdout",
     "output_type": "stream",
     "text": [
      "Fitting 5 folds for each of 10 candidates, totalling 50 fits\n",
      "\n",
      "Best learning_rate, min_split_loss, max_depth, max_delta_step, colsample_bytree, subsample,\n",
      "reg_lambda, min_child_weight, n_estimators:\n",
      "(0.005, 0.1, 7, 0.0, 0.8, 0.6, 10.0, 5.0, 500)\n"
     ]
    }
   ],
   "source": [
    "UNDERESTIMATE_BIAS = 10.\n",
    "\n",
    "xgb_reg = xgb.XGBRegressor(\n",
    "    verbosity=1, \n",
    "    objective=asymmetric_grads(UNDERESTIMATE_BIAS),\n",
    "    eval_metric=asymmetric_loss(UNDERESTIMATE_BIAS),\n",
    "    early_stopping_rounds=10\n",
    ")\n",
    "\n",
    "xgb_rscv_custom = RandomizedSearchCV(\n",
    "    xgb_reg, \n",
    "    param_distributions=parameters,\n",
    "    verbose=1, \n",
    "    random_state=40,\n",
    "    error_score='raise'\n",
    ")\n",
    "\n",
    "xgb_rscv_model_custom = xgb_rscv_custom.fit(train_X, \n",
    "                                            train_Y, \n",
    "                                            eval_set=[(train_X, train_Y), (cv_X, cv_Y)], \n",
    "                                            verbose=0)\n",
    "\n",
    "print('\\nBest learning_rate, min_split_loss, max_depth, max_delta_step, colsample_bytree, subsample,\\n'\n",
    "      + 'reg_lambda, min_child_weight, n_estimators:\\n'\n",
    "      + f'''{itemgetter(\n",
    "        'learning_rate', 'min_split_loss', 'max_depth', 'max_delta_step', 'colsample_bytree', 'subsample', \n",
    "        'reg_lambda', 'min_child_weight', 'n_estimators'\n",
    "       )(xgb_rscv_model_custom.best_estimator_.get_params())\n",
    "      }'''\n",
    "     )"
   ]
  },
  {
   "cell_type": "code",
   "execution_count": 13,
   "id": "b228a2fb-d9cf-4dbb-a886-2175c88711c5",
   "metadata": {},
   "outputs": [
    {
     "ename": "AttributeError",
     "evalue": "'numpy.ndarray' object has no attribute 'plot'",
     "output_type": "error",
     "traceback": [
      "\u001b[1;31m---------------------------------------------------------------------------\u001b[0m",
      "\u001b[1;31mAttributeError\u001b[0m                            Traceback (most recent call last)",
      "\u001b[1;32m<ipython-input-13-2991f86a44e0>\u001b[0m in \u001b[0;36m<module>\u001b[1;34m\u001b[0m\n\u001b[0;32m     11\u001b[0m \u001b[0mresults_custom\u001b[0m \u001b[1;33m=\u001b[0m \u001b[0mxgb_model_custom_best\u001b[0m\u001b[1;33m.\u001b[0m\u001b[0mevals_result\u001b[0m\u001b[1;33m(\u001b[0m\u001b[1;33m)\u001b[0m\u001b[1;33m\u001b[0m\u001b[1;33m\u001b[0m\u001b[0m\n\u001b[0;32m     12\u001b[0m \u001b[1;33m\u001b[0m\u001b[0m\n\u001b[1;32m---> 13\u001b[1;33m \u001b[0mplotLearningCurves\u001b[0m\u001b[1;33m(\u001b[0m\u001b[0mresults_custom\u001b[0m\u001b[1;33m,\u001b[0m \u001b[1;33m[\u001b[0m\u001b[1;34m'custom_loss'\u001b[0m\u001b[1;33m,\u001b[0m \u001b[1;34m'rmse'\u001b[0m\u001b[1;33m]\u001b[0m\u001b[1;33m)\u001b[0m\u001b[1;33m\u001b[0m\u001b[1;33m\u001b[0m\u001b[0m\n\u001b[0m",
      "\u001b[1;32m<ipython-input-4-c40a78d5de37>\u001b[0m in \u001b[0;36mplotLearningCurves\u001b[1;34m(results, losses)\u001b[0m\n\u001b[0;32m     11\u001b[0m     \u001b[1;32mif\u001b[0m \u001b[0mtype\u001b[0m\u001b[1;33m(\u001b[0m\u001b[0maxs\u001b[0m\u001b[1;33m)\u001b[0m \u001b[1;33m!=\u001b[0m \u001b[0mlist\u001b[0m\u001b[1;33m:\u001b[0m \u001b[0maxs\u001b[0m \u001b[1;33m=\u001b[0m \u001b[1;33m[\u001b[0m\u001b[0maxs\u001b[0m\u001b[1;33m]\u001b[0m\u001b[1;33m\u001b[0m\u001b[1;33m\u001b[0m\u001b[0m\n\u001b[0;32m     12\u001b[0m     \u001b[1;32mfor\u001b[0m \u001b[0mi\u001b[0m\u001b[1;33m,\u001b[0m \u001b[0mname\u001b[0m \u001b[1;32min\u001b[0m \u001b[0menumerate\u001b[0m\u001b[1;33m(\u001b[0m\u001b[0mlosses\u001b[0m\u001b[1;33m)\u001b[0m\u001b[1;33m:\u001b[0m\u001b[1;33m\u001b[0m\u001b[1;33m\u001b[0m\u001b[0m\n\u001b[1;32m---> 13\u001b[1;33m         \u001b[0maxs\u001b[0m\u001b[1;33m[\u001b[0m\u001b[0mi\u001b[0m\u001b[1;33m]\u001b[0m\u001b[1;33m.\u001b[0m\u001b[0mplot\u001b[0m\u001b[1;33m(\u001b[0m\u001b[0mresults\u001b[0m\u001b[1;33m[\u001b[0m\u001b[1;34m'validation_0'\u001b[0m\u001b[1;33m]\u001b[0m\u001b[1;33m[\u001b[0m\u001b[0mname\u001b[0m\u001b[1;33m]\u001b[0m\u001b[1;33m,\u001b[0m \u001b[0mlabel\u001b[0m\u001b[1;33m=\u001b[0m\u001b[1;34m'train'\u001b[0m\u001b[1;33m)\u001b[0m\u001b[1;33m\u001b[0m\u001b[1;33m\u001b[0m\u001b[0m\n\u001b[0m\u001b[0;32m     14\u001b[0m         \u001b[0maxs\u001b[0m\u001b[1;33m[\u001b[0m\u001b[0mi\u001b[0m\u001b[1;33m]\u001b[0m\u001b[1;33m.\u001b[0m\u001b[0mplot\u001b[0m\u001b[1;33m(\u001b[0m\u001b[0mresults\u001b[0m\u001b[1;33m[\u001b[0m\u001b[1;34m'validation_1'\u001b[0m\u001b[1;33m]\u001b[0m\u001b[1;33m[\u001b[0m\u001b[0mname\u001b[0m\u001b[1;33m]\u001b[0m\u001b[1;33m,\u001b[0m \u001b[0mlabel\u001b[0m\u001b[1;33m=\u001b[0m\u001b[1;34m'cv'\u001b[0m\u001b[1;33m)\u001b[0m\u001b[1;33m\u001b[0m\u001b[1;33m\u001b[0m\u001b[0m\n\u001b[0;32m     15\u001b[0m         \u001b[0maxs\u001b[0m\u001b[1;33m[\u001b[0m\u001b[0mi\u001b[0m\u001b[1;33m]\u001b[0m\u001b[1;33m.\u001b[0m\u001b[0mset_xlabel\u001b[0m\u001b[1;33m(\u001b[0m\u001b[1;34m'Epoch'\u001b[0m\u001b[1;33m)\u001b[0m\u001b[1;33m\u001b[0m\u001b[1;33m\u001b[0m\u001b[0m\n",
      "\u001b[1;31mAttributeError\u001b[0m: 'numpy.ndarray' object has no attribute 'plot'"
     ]
    },
    {
     "data": {
      "image/png": "[encoded data removed]",
      "text/plain": [
       "<Figure size 921.6x345.6 with 2 Axes>"
      ]
     },
     "metadata": {
      "needs_background": "light"
     },
     "output_type": "display_data"
    }
   ],
   "source": [
    "'''\n",
    "Select the model with the best parameters and plot the training and CV learning curves.\n",
    "'''\n",
    "xgb_model_custom_best = xgb.XGBRegressor(**xgb_rscv_model_custom.best_estimator_.get_params()).fit(\n",
    "    train_X, \n",
    "    train_Y, \n",
    "    eval_set=[(train_X, train_Y), (cv_X, cv_Y)],\n",
    "    verbose=0\n",
    ")\n",
    "\n",
    "results_custom = xgb_model_custom_best.evals_result()\n",
    "\n",
    "plotLearningCurves(results_custom, ['custom_loss', 'rmse'])"
   ]
  },
  {
   "cell_type": "markdown",
   "id": "964a901c-f69a-445d-a7e3-b4e644cddbc3",
   "metadata": {},
   "source": [
    "This might be a sign that we have overfit the training set. Let's compare the predicted and actual increases:"
   ]
  },
  {
   "cell_type": "code",
   "execution_count": null,
   "id": "c47968bf-a538-4793-9510-807809d92380",
   "metadata": {},
   "outputs": [],
   "source": [
    "train_Y_preds_custom = xgb_model_custom_best.predict(train_X)\n",
    "plotPredictedVsActual(train_Y_preds_custom, train_Y)"
   ]
  },
  {
   "cell_type": "markdown",
   "id": "5871b298-c243-4392-838a-0edba190fb2f",
   "metadata": {},
   "source": [
    "TRAINING: the regressor definitely learned very well how to avoid overestimates."
   ]
  },
  {
   "cell_type": "code",
   "execution_count": null,
   "id": "4211ec1e-8c6f-4950-a6ba-354f7a9c068c",
   "metadata": {},
   "outputs": [],
   "source": [
    "cv_Y_preds_custom = xgb_model_custom_best.predict(cv_X)\n",
    "predictedVsActualPlot(cv_Y_preds_custom, cv_Y)"
   ]
  },
  {
   "cell_type": "markdown",
   "id": "735bb071-4d64-443c-a5c3-1d9a234462d3",
   "metadata": {},
   "source": [
    "CV: Well, we've certainly missed out on many large runs, including the one that was 300%+... ouch.\n",
    "\n",
    "However, what's important is that a higher proportion of points are near or above the \"predicted = actual\" line, which means that our algorithm has become more conservative and hence favorable. \n",
    "\n",
    "It might be inevitable that we overfit the training data a bit, especially with so little data and only 16 features, as the stock market is so volatile and influenced by so many confounding factors.\n",
    "\n",
    "This makes me think that I should perhaps only trust the algorithm when it's ***really*** confident."
   ]
  },
  {
   "cell_type": "markdown",
   "id": "e5690ab2-b8e2-4269-ad9a-bac2c258aa65",
   "metadata": {},
   "source": [
    "### Let's visualize our categorizations with a confusion matrix."
   ]
  },
  {
   "cell_type": "code",
   "execution_count": null,
   "id": "f5c55acd-ea3a-475d-a8fb-b3f8f5f40abb",
   "metadata": {},
   "outputs": [],
   "source": [
    "def returnPriceLabels(priceChange, labels, benchmark):\n",
    "    '''\n",
    "    Categorizes a percentage price change via comparison to a benchmark S&P500 gain.\n",
    "    '''\n",
    "        \n",
    "    if priceChange < 0:\n",
    "        return labels[0]\n",
    "    elif (priceChange >= 0) and (priceChange < benchmark):\n",
    "        return labels[1]\n",
    "    elif (priceChange >= benchmark) and (priceChange < 2*benchmark):\n",
    "        return labels[2]\n",
    "    elif (priceChange >= 2*benchmark) and (priceChange < 3*benchmark):\n",
    "        return labels[3]\n",
    "    else:\n",
    "        return labels[4]"
   ]
  },
  {
   "cell_type": "code",
   "execution_count": null,
   "id": "5eba6008-6631-414c-819b-9cafe4b0e223",
   "metadata": {},
   "outputs": [],
   "source": [
    "import seaborn as sn\n",
    "\n",
    "SP500_startPrice = 440.99\n",
    "SP500_endPrice = 453.65\n",
    "SP500_90DAY_GAIN = round(100*(SP500_endPrice-SP500_startPrice)/SP500_startPrice, 1)\n",
    "print(f'For reference, the S&P500 gained {SP500_90DAY_GAIN}% in the CV time period.')\n",
    "\n",
    "benchmark = 4\n",
    "\n",
    "labels = ['<0%', \n",
    "          f'0-{benchmark}%',\n",
    "          f'{benchmark}-{2*benchmark}%',\n",
    "          f'{2*benchmark}-{3*benchmark}%',\n",
    "          f'>{3*benchmark}%']\n",
    "\n",
    "pred_labels = [returnPriceLabels(y_pred, labels, benchmark) for y_pred in cv_Y_preds_custom]\n",
    "true_labels = [returnPriceLabels(y_true, labels, benchmark) for y_true in cv_Y.to_numpy()]\n",
    "\n",
    "confMat = confusion_matrix(true_labels, pred_labels, labels=labels)\n",
    "plt.figure(figsize = (8,8))\n",
    "sn.heatmap(pd.DataFrame(confMat, labels, labels), annot=True, fmt='g', cbar=False, vmin=0, vmax=200)\n",
    "plt.xlabel('Predicted')\n",
    "plt.ylabel('Actual')\n",
    "plt.xticks(rotation=45)\n",
    "plt.yticks(rotation=45)\n",
    "plt.title('Price Change Confusion Matrix')\n",
    "plt.show()"
   ]
  },
  {
   "cell_type": "markdown",
   "id": "c205de7c-f2d3-4608-8987-6daacec8fd54",
   "metadata": {},
   "source": [
    "For something as volatile as the stock market, this is pretty decent. We're happy with predictions that generally fall on or below the diagonal, which indicates that we tend to underestimate.\n",
    "\n",
    "In particular, look at the rightmost two columns. Our conservative algorithm performs pretty well when it makes bold estimates! Of 97 trades whose tickers were predicted to run by at least 8%, 73 actually did.\n",
    "\n",
    "#### That's an 75% success rate on high-prediction trades!"
   ]
  },
  {
   "cell_type": "code",
   "execution_count": null,
   "id": "33b6b1dd-288c-4346-98e0-016aaeced30a",
   "metadata": {},
   "outputs": [],
   "source": [
    "# Graphviz isn't on the environment's path by default for some reason, so we must add it\n",
    "import os\n",
    "os.environ[\"PATH\"] += os.pathsep + 'C:/Program Files/Graphviz/bin/'\n",
    "\n",
    "xgb.plot_tree(xgb_model_best)  # plot the first tree in the model\n",
    "fig = plt.gcf()\n",
    "fig.set_size_inches(150, 100)\n",
    "plt.show()\n",
    "fig.savefig('outputs/regression_tree.png')"
   ]
  },
  {
   "cell_type": "code",
   "execution_count": null,
   "id": "82981538-be37-49bf-aa16-a3a89df32410",
   "metadata": {},
   "outputs": [],
   "source": [
    "xgb.plot_importance(xgb_model_best)\n",
    "plt.show()"
   ]
  },
  {
   "cell_type": "markdown",
   "id": "514feaaf-a6d4-4e8d-95ec-5f60827e672a",
   "metadata": {},
   "source": [
    "The feature importance map is interesting and a cause for some consideration -- current price is by far the most important indicator of future price.\n",
    "\n",
    "I think that this can be seen as either a bit concerning, or a bit tautological. On the one hand, we'd naturally not expect price to give any sort of indication of what the future price will be -- it's just an arbitrary value! But on the other hand, even though share structure is what's actually important in determining how easily the price can jump, I suspect that it usually is such that higher-priced tickers don't tend to run as easily as lower-priced tickers. Thus, it's just inherently more likely that a \\\\$1 ticker increases to \\\\$1.10 than a \\\\$100 ticker increases to \\\\$110.\n",
    "\n",
    "Quantity of shares owned by the insider is important, which makes sense. If they own more shares, they probably know more about the company, and their purchases and sells directly affect the ticker price more.\n",
    "\n",
    "Surprisingly, particular insider titles don't seem to matter that much. Something to consider is looking for particular kinds of clusters of trades, e.g. multiple recent trades with at least one of them being an officer."
   ]
  },
  {
   "cell_type": "code",
   "execution_count": null,
   "id": "078536f0-5f86-4457-abd1-6484aca25e9d",
   "metadata": {},
   "outputs": [],
   "source": [
    "cv_XY['XGB_Prediction'] = cv_Y_preds_custom\n",
    "save_obj(cv_XY, 'data/cv_XY')\n",
    "\n",
    "xgb_model_best.save_model('models/xgb_model.json')"
   ]
  },
  {
   "cell_type": "code",
   "execution_count": null,
   "id": "5b65f23e-8a84-4d70-ae1f-997db3d13dd3",
   "metadata": {},
   "outputs": [],
   "source": [
    "tick='PHAT'\n",
    "startDate=dt.datetime.strptime('2021-06-01', '%Y-%m-%d').date()\n",
    "endDate=dt.datetime.strptime('2021-06-10', '%Y-%m-%d').date()\n",
    "recentTrades = pd.DataFrame()\n",
    "recentTrades = pd.eval('recentTrades = (train_XY.Ticker==tick) and (train_XY.FilingDate <= endDate)' +\n",
    "                      ' and (train_XY.FilingDate >= startDate)', target=recentTrades)\n",
    "print(recentTrades.recentTrades.value_counts())"
   ]
  }
 ],
 "metadata": {
  "kernelspec": {
   "display_name": "Python 3",
   "language": "python",
   "name": "python3"
  },
  "language_info": {
   "codemirror_mode": {
    "name": "ipython",
    "version": 3
   },
   "file_extension": ".py",
   "mimetype": "text/x-python",
   "name": "python",
   "nbconvert_exporter": "python",
   "pygments_lexer": "ipython3",
   "version": "3.8.8"
  }
 },
 "nbformat": 4,
 "nbformat_minor": 5
}
