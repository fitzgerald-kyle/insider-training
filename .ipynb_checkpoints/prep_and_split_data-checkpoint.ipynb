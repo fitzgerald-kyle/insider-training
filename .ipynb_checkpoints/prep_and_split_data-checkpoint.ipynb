{
 "cells": [
  {
   "cell_type": "code",
   "execution_count": null,
   "id": "9f253eba-145f-4030-a702-c38bba47f974",
   "metadata": {},
   "outputs": [],
   "source": [
    "import re\n",
    "import pandas as pd\n",
    "import numpy as np"
   ]
  },
  {
   "cell_type": "code",
   "execution_count": null,
   "id": "b9ab8643-0f13-498b-aafb-547a4b956a68",
   "metadata": {},
   "outputs": [],
   "source": [
    "def prepareForModel(insiderDat):\n",
    "    def fixTitle(title):\n",
    "        '''\n",
    "        I figure that the Chair of the Board is the most fiscally powerful person in a company, so to break ties for\n",
    "        people who hold multiple titles, I'll prioritize COB, then C-suite, then other directors, then anyone else.\n",
    "        '''\n",
    "\n",
    "        directorKeywords = ['Dir', 'VP', 'Vice', 'V.P.', 'Pres']\n",
    "        officerKeywords = ['CEO', 'C.E.O' 'COO', 'C.O.O', 'CHRO', 'C.H.R.O', \n",
    "                           'CFO', 'C.F.O', 'CTO', 'C.T.O', 'Chief']\n",
    "        chairKeywords = ['COB', 'C.O.B.', 'Chair']\n",
    "\n",
    "        if any([re.search(s, title, re.IGNORECASE) for s in chairKeywords]):\n",
    "            newTitle = 'Chair'\n",
    "        elif any([re.search(s, title, re.IGNORECASE) for s in officerKeywords]):\n",
    "            newTitle = 'Officer'\n",
    "        elif any([re.search(s, title, re.IGNORECASE) for s in directorKeywords]):\n",
    "            newTitle = 'Director'\n",
    "        else:\n",
    "            newTitle = 'Other'\n",
    "\n",
    "        return newTitle\n",
    "    \n",
    "    if 'Title' in insiderDat.columns:\n",
    "        insiderDat.Title = [fixTitle(r) for r in insiderDat.Title]\n",
    "\n",
    "    insiderDat['FilingDate'] = pd.to_datetime(insiderDat['FilingDate']).dt.date\n",
    "    insiderDat = insiderDat.astype({'Price': 'float', \n",
    "                                    'Qty': 'float', \n",
    "                                    'Owned': 'float', \n",
    "                                    'DeltaOwn': 'float', \n",
    "                                    'Value': 'float', \n",
    "                                    'NumTrades': 'int', \n",
    "                                    'TradeToFileTime': 'int', \n",
    "                                    '%VolumeChange': 'float', \n",
    "                                    '%FuturePriceChange': 'float'\n",
    "                                   })\n",
    "    \n",
    "    return insiderDat"
   ]
  },
  {
   "cell_type": "code",
   "execution_count": 2,
   "id": "8a82356c-9090-44d9-9cee-0244805f0591",
   "metadata": {},
   "outputs": [],
   "source": [
    "def returnXandY(insiderDat, startDate, endDate):\n",
    "    '''Split the data'''\n",
    "    dateRange = pd.date_range(start=startDate, end=endDate).date\n",
    "\n",
    "    insiderDat = insiderDat.drop(columns=['CompanyName', 'TradeDate', 'InsiderName'])\n",
    "    if 'Unnamed: 0' in insiderDat.columns:\n",
    "        insiderDat = insiderDat.drop(columns=['Unnamed: 0'])\n",
    "    \n",
    "    dummies_data = pd.get_dummies(insiderDat, columns=['Title', 'TradeType'], prefix=['Title', None])\n",
    "\n",
    "    data_XY = dummies_data[dummies_data['FilingDate'].isin(dateRange)]\n",
    "    data_XY = data_XY.dropna()\n",
    "    data_X = data_XY.drop(columns=['FilingDate', '%FuturePriceChange', 'Ticker'])\n",
    "    data_Y = data_XY['%FuturePriceChange']\n",
    "\n",
    "    assert np.any(np.isnan(data_X)) == False\n",
    "    assert np.all(np.isfinite(data_X)) == True\n",
    "    assert np.any(np.isnan(data_Y)) == False\n",
    "    assert np.all(np.isfinite(data_Y)) == True\n",
    "    \n",
    "    return data_XY, data_X, data_Y"
   ]
  },
  {
   "cell_type": "code",
   "execution_count": null,
   "id": "4e47ab91-9725-4b7a-a8d0-47f3b9cb7b78",
   "metadata": {},
   "outputs": [],
   "source": []
  }
 ],
 "metadata": {
  "kernelspec": {
   "display_name": "Python 3",
   "language": "python",
   "name": "python3"
  },
  "language_info": {
   "codemirror_mode": {
    "name": "ipython",
    "version": 3
   },
   "file_extension": ".py",
   "mimetype": "text/x-python",
   "name": "python",
   "nbconvert_exporter": "python",
   "pygments_lexer": "ipython3",
   "version": "3.8.8"
  }
 },
 "nbformat": 4,
 "nbformat_minor": 5
}
