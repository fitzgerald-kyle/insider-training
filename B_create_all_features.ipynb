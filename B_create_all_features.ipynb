{
 "cells": [
  {
   "cell_type": "markdown",
   "id": "b3578043-c136-4a59-89d3-f511f6ff1033",
   "metadata": {},
   "source": [
    "### Here, we add derived trade features to features already obtained from the CSV."
   ]
  },
  {
   "cell_type": "code",
   "execution_count": 1,
   "id": "080d1231-7487-4187-8a52-ad87b3bd0a89",
   "metadata": {},
   "outputs": [],
   "source": [
    "%load_ext autoreload\n",
    "%autoreload 1\n",
    "%aimport my_functions\n",
    "\n",
    "import pandas as pd\n",
    "import datetime as dt\n",
    "import numpy as np\n",
    "\n",
    "from my_functions import *\n",
    "\n",
    "pd.options.mode.chained_assignment = None"
   ]
  },
  {
   "cell_type": "code",
   "execution_count": 4,
   "id": "761396db",
   "metadata": {},
   "outputs": [],
   "source": [
    "'''\n",
    "Load insider trade data and historic ticker data.\n",
    "'''\n",
    "insiderDat = pd.read_csv('data/insiderDat_June2021_clean.csv')\n",
    "historicDat = load_obj('data/historicDat')"
   ]
  },
  {
   "cell_type": "code",
   "execution_count": 6,
   "id": "4a12d79f-649a-4693-9180-af54b34b3158",
   "metadata": {},
   "outputs": [
    {
     "name": "stdout",
     "output_type": "stream",
     "text": [
      "Processing trade 5417\r"
     ]
    }
   ],
   "source": [
    "insiderDat_complete = createAllFeatures(insiderDat, historicDat)"
   ]
  },
  {
   "cell_type": "code",
   "execution_count": 7,
   "id": "67180a03-20d9-4be3-bd23-0a7ab0133415",
   "metadata": {},
   "outputs": [
    {
     "name": "stdout",
     "output_type": "stream",
     "text": [
      "Here is an example of a row that contains all trade features:\n",
      "\n"
     ]
    },
    {
     "data": {
      "text/plain": [
       "FilingDate                    2021-06-30\n",
       "TradeDate                     2021-06-28\n",
       "Ticker                               ZIP\n",
       "CompanyName           Ziprecruiter, Inc.\n",
       "InsiderName                Travers David\n",
       "Title                                CFO\n",
       "TradeType                    S - Sale+OE\n",
       "Price                              23.19\n",
       "Qty                             -19411.0\n",
       "Owned                          1104321.0\n",
       "DeltaOwn                       -1.727369\n",
       "Value                         -450141.09\n",
       "NumTrades                              1\n",
       "TradeToFileTime                        2\n",
       "ValueOwned                   25609203.99\n",
       "%VolumeChange                 -56.021726\n",
       "%FuturePriceChange             16.253008\n",
       "Name: 5417, dtype: object"
      ]
     },
     "execution_count": 7,
     "metadata": {},
     "output_type": "execute_result"
    }
   ],
   "source": [
    "print('Here is an example of a row that contains all trade features:\\n')\n",
    "insiderDat_complete.iloc[-1]"
   ]
  },
  {
   "cell_type": "code",
   "execution_count": 8,
   "id": "bd456b70",
   "metadata": {},
   "outputs": [],
   "source": [
    "insiderDat_complete.to_csv('data/training_and_cv_data.csv')"
   ]
  },
  {
   "cell_type": "code",
   "execution_count": null,
   "id": "b6b7d485",
   "metadata": {},
   "outputs": [],
   "source": []
  }
 ],
 "metadata": {
  "kernelspec": {
   "display_name": "Python 3",
   "language": "python",
   "name": "python3"
  },
  "language_info": {
   "codemirror_mode": {
    "name": "ipython",
    "version": 3
   },
   "file_extension": ".py",
   "mimetype": "text/x-python",
   "name": "python",
   "nbconvert_exporter": "python",
   "pygments_lexer": "ipython3",
   "version": "3.8.8"
  }
 },
 "nbformat": 4,
 "nbformat_minor": 5
}
