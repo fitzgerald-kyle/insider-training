{
 "cells": [
  {
   "cell_type": "markdown",
   "id": "b3578043-c136-4a59-89d3-f511f6ff1033",
   "metadata": {},
   "source": [
    "### Here, we add derived trade features to features already obtained from the CSV."
   ]
  },
  {
   "cell_type": "code",
   "execution_count": 1,
   "id": "080d1231-7487-4187-8a52-ad87b3bd0a89",
   "metadata": {},
   "outputs": [],
   "source": [
    "%load_ext autoreload\n",
    "%autoreload 1\n",
    "%aimport my_functions\n",
    "\n",
    "import pandas as pd\n",
    "import datetime as dt\n",
    "import numpy as np\n",
    "\n",
    "from my_functions import *\n",
    "\n",
    "pd.options.mode.chained_assignment = None"
   ]
  },
  {
   "cell_type": "code",
   "execution_count": 2,
   "id": "761396db",
   "metadata": {},
   "outputs": [],
   "source": [
    "'''\n",
    "Load insider trade data and historic ticker data.\n",
    "'''\n",
    "insiderDat = pd.read_csv('data/insiderDat_JuneToAug2021_clean.csv')\n",
    "historicDat = load_obj('data/historicDat')"
   ]
  },
  {
   "cell_type": "code",
   "execution_count": 3,
   "id": "8498c255-3c05-40e6-851c-6d6f67c71300",
   "metadata": {},
   "outputs": [],
   "source": [
    "DAYS_TO_LOOK_FORWARD = 90\n",
    "DAYS_TO_LOOK_BACK = 6  # for computing volume volatility and related insider buys\n",
    "WINDOW_LEN = 3"
   ]
  },
  {
   "cell_type": "code",
   "execution_count": 4,
   "id": "4a12d79f-649a-4693-9180-af54b34b3158",
   "metadata": {},
   "outputs": [
    {
     "name": "stdout",
     "output_type": "stream",
     "text": [
      "Processing trade 14025\r"
     ]
    }
   ],
   "source": [
    "insiderDat_complete = createAllFeatures(insiderDat, historicDat, DAYS_TO_LOOK_FORWARD,\n",
    "                                        WINDOW_LEN, DAYS_TO_LOOK_BACK)"
   ]
  },
  {
   "cell_type": "code",
   "execution_count": 5,
   "id": "67180a03-20d9-4be3-bd23-0a7ab0133415",
   "metadata": {},
   "outputs": [
    {
     "name": "stdout",
     "output_type": "stream",
     "text": [
      "Here is an example of a row that contains all trade features:\n",
      "\n"
     ]
    },
    {
     "data": {
      "text/plain": [
       "FilingDate                              2021-08-31\n",
       "TradeDate                               2021-08-26\n",
       "Ticker                                        IVFH\n",
       "CompanyName           Innovative Food Holdings Inc\n",
       "InsiderName                              Cohn Hank\n",
       "Title                                          Dir\n",
       "TradeType                             P - Purchase\n",
       "Price                                          0.4\n",
       "Qty                                      3125000.0\n",
       "Owned                                    3448315.0\n",
       "DeltaOwn                                 966.54965\n",
       "Value                                    1250000.0\n",
       "NumTrades                                        2\n",
       "TradeToFileTime                                  5\n",
       "ValueOwned                               1379326.0\n",
       "VolumeVolatility                          0.810143\n",
       "PriceVolatility                           0.108384\n",
       "%FuturePriceChange                       23.910259\n",
       "Name: 14025, dtype: object"
      ]
     },
     "execution_count": 5,
     "metadata": {},
     "output_type": "execute_result"
    }
   ],
   "source": [
    "print('Here is an example of a row that contains all trade features:\\n')\n",
    "insiderDat_complete.iloc[-1]"
   ]
  },
  {
   "cell_type": "code",
   "execution_count": 6,
   "id": "bd456b70",
   "metadata": {},
   "outputs": [],
   "source": [
    "insiderDat_complete.to_csv('data/training_and_cv_data.csv')"
   ]
  },
  {
   "cell_type": "code",
   "execution_count": null,
   "id": "b6b7d485",
   "metadata": {},
   "outputs": [],
   "source": []
  }
 ],
 "metadata": {
  "kernelspec": {
   "display_name": "Python 3",
   "language": "python",
   "name": "python3"
  },
  "language_info": {
   "codemirror_mode": {
    "name": "ipython",
    "version": 3
   },
   "file_extension": ".py",
   "mimetype": "text/x-python",
   "name": "python",
   "nbconvert_exporter": "python",
   "pygments_lexer": "ipython3",
   "version": "3.8.8"
  }
 },
 "nbformat": 4,
 "nbformat_minor": 5
}
