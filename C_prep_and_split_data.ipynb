{
 "cells": [
  {
   "cell_type": "markdown",
   "id": "bed22f90-26ef-4d81-aef4-c4f0f5841f1a",
   "metadata": {},
   "source": [
    "In this notebook, we define functions that prepare the data to be passed into a model (e.g. one-hot encoding insiders' titles) and split the data into input and output sets."
   ]
  },
  {
   "cell_type": "code",
   "execution_count": null,
   "id": "9f253eba-145f-4030-a702-c38bba47f974",
   "metadata": {},
   "outputs": [],
   "source": []
  },
  {
   "cell_type": "code",
   "execution_count": null,
   "id": "b9ab8643-0f13-498b-aafb-547a4b956a68",
   "metadata": {},
   "outputs": [],
   "source": []
  },
  {
   "cell_type": "code",
   "execution_count": 2,
   "id": "8a82356c-9090-44d9-9cee-0244805f0591",
   "metadata": {},
   "outputs": [],
   "source": []
  },
  {
   "cell_type": "code",
   "execution_count": null,
   "id": "4e47ab91-9725-4b7a-a8d0-47f3b9cb7b78",
   "metadata": {},
   "outputs": [],
   "source": []
  }
 ],
 "metadata": {
  "kernelspec": {
   "display_name": "Python 3",
   "language": "python",
   "name": "python3"
  },
  "language_info": {
   "codemirror_mode": {
    "name": "ipython",
    "version": 3
   },
   "file_extension": ".py",
   "mimetype": "text/x-python",
   "name": "python",
   "nbconvert_exporter": "python",
   "pygments_lexer": "ipython3",
   "version": "3.8.8"
  }
 },
 "nbformat": 4,
 "nbformat_minor": 5
}
