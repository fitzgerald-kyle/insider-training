{
 "cells": [
  {
   "cell_type": "markdown",
   "id": "7ca29d73-53eb-4725-900b-eaa5636f04ca",
   "metadata": {},
   "source": [
    "## XGBoost Investment Strategy Demo\n",
    "\n",
    "I'm a total novice in this area, and I'm not afraid to admit it! Luckily, designing a foolproof investment strategy wasn't the point of this project. The point was to see if we've learned to identify which insider trades are worth paying attention to!\n",
    "\n",
    "\n",
    "#### However, to clearly demonstrate what has been learned, let's define a REALLY simple strategy:\n",
    "- Knowing that our algorithm is conservative, we'll only put faith in high predictions: If an insider trade is filed that our algorithm predicts will rise by >10\\%, purchase \\\\$1 at the next day's opening.\n",
    "- If, in the next 90 days, the value of our purchase is at least 15% higher at any closing, immediately sell. (Our algorithm is conservative enough that we've decided to be greedy, hoping to squeeze out a bit more gain than predicted.)\n",
    "\n",
    "This strategy, of course, assumes that we successfully make each purchase right at the opening and each sell right at the closing."
   ]
  },
  {
   "cell_type": "code",
   "execution_count": 1,
   "id": "28e567eb-68a7-4528-bf14-fc691679e6de",
   "metadata": {},
   "outputs": [],
   "source": [
    "%load_ext autoreload\n",
    "%autoreload 1\n",
    "%aimport my_functions\n",
    "\n",
    "import datetime as dt\n",
    "import numpy as np\n",
    "import pandas as pd\n",
    "import xgboost as xgb\n",
    "\n",
    "from sklearn.metrics import mean_squared_error\n",
    "\n",
    "from my_functions import *"
   ]
  },
  {
   "cell_type": "code",
   "execution_count": 2,
   "id": "69cff9d7-27c0-4913-9746-ac1c7adf2026",
   "metadata": {},
   "outputs": [],
   "source": [
    "cv_XY = load_obj('data/cv_XY')\n",
    "historicDat = load_obj('data/historicDat')"
   ]
  },
  {
   "cell_type": "code",
   "execution_count": 3,
   "id": "62f816cc-8bc2-4be3-b30e-c223e251ac23",
   "metadata": {},
   "outputs": [
    {
     "name": "stdout",
     "output_type": "stream",
     "text": [
      "Buying BILL on 2021-06-29, currently $187.0\n",
      "Buying ASAN on 2021-06-29, currently $63.15\n",
      "Buying TRVN on 2021-06-29, currently $1.86\n",
      "Buying CVNA on 2021-06-29, currently $301.63\n",
      "Buying CVNA on 2021-06-29, currently $301.63\n",
      "Buying CVNA on 2021-06-29, currently $301.63\n",
      "Buying CVNA on 2021-06-30, currently $301.67\n",
      "Buying DCTH on 2021-06-30, currently $12.3\n",
      "Buying TLRS on 2021-06-30, currently $0.22\n",
      "Buying COUP on 2021-06-30, currently $269.51\n",
      "Buying SSNT on 2021-07-01, currently $12.18\n",
      "Buying CVNA on 2021-07-01, currently $300.0\n",
      "Buying ZI on 2021-07-01, currently $52.0\n",
      "Buying ASAN on 2021-07-01, currently $63.18\n",
      "Buying ZI on 2021-07-01, currently $52.0\n",
      "Buying SNRG on 2021-07-01, currently $0.3\n",
      "Buying ETSY on 2021-07-01, currently $206.41\n",
      "Buying UTHR on 2021-07-01, currently $179.97\n",
      "Buying MRNA on 2021-07-01, currently $236.3\n",
      "Selling SSNT on 2021-07-06, currently $14.09, for 15.68% profit\n",
      "Selling MRNA on 2021-07-16, currently $286.43, for 21.21% profit\n",
      "Selling ASAN on 2021-07-22, currently $73.64, for 16.61% profit\n",
      "Selling ASAN on 2021-07-22, currently $73.64, for 16.56% profit\n",
      "Selling ZI on 2021-08-04, currently $60.6, for 16.54% profit\n",
      "Selling ZI on 2021-08-04, currently $60.6, for 16.54% profit\n",
      "Selling CVNA on 2021-08-06, currently $345.65, for 15.22% profit\n",
      "Selling UTHR on 2021-08-06, currently $213.33, for 18.54% profit\n",
      "Selling CVNA on 2021-08-09, currently $356.34, for 18.14% profit\n",
      "Selling CVNA on 2021-08-09, currently $356.34, for 18.14% profit\n",
      "Selling CVNA on 2021-08-09, currently $356.34, for 18.14% profit\n",
      "Selling CVNA on 2021-08-09, currently $356.34, for 18.12% profit\n",
      "Selling BILL on 2021-08-23, currently $217.35, for 16.23% profit\n",
      "\n",
      "-----------------------------------------\n",
      "\n",
      "We invested $19. Our portfolio is now worth $20.36, giving a return of 7.17%.\n"
     ]
    }
   ],
   "source": [
    "runTradeSimulation(cv_XY, 'XGB_Prediction', historicDat, '2021-06-27', '2021-09-27', buyThresh=10, sellThresh=15)"
   ]
  },
  {
   "cell_type": "markdown",
   "id": "078bd8e1-cd23-4835-aba9-7af5793768ae",
   "metadata": {},
   "source": [
    "## Success!\n",
    "From 2021-06-27 to 2021-09-27, the SPY ETF fund rose by 3.56%.\n",
    "\n",
    "Over this time period, with just 4 days of buying, our algorithm outperforms SPY by nearly ***10 percentage points***.\n",
    "\n",
    "This is incredible! It almost seems too good to be true...\n",
    "\n",
    "A major caveat is that our cross-validation is being performed on trades from a time period when the market was red-hot. The market suffered a bit in early September 2021, but the months of June, July, and August were some of the most profitable months in recent memory, at least in terms of the S&P500.\n",
    "\n",
    "In particular, we could get away with assuming that our algorithm's estimates would indeed be conservative!\n",
    "\n",
    "A real way to test our algorithm is to see if it still generates a profit during a bearish market period. For example, let's gather data from 2022-03-29 to 2022-06-29, over which period the value of SPY tumbled by 17.38%:"
   ]
  },
  {
   "cell_type": "code",
   "execution_count": 5,
   "id": "7ea48e4c-ca2c-4043-a5c5-91ef0e93a0f5",
   "metadata": {
    "scrolled": true,
    "tags": []
   },
   "outputs": [
    {
     "name": "stdout",
     "output_type": "stream",
     "text": [
      "There are 537 unique tickers.\n",
      "Getting historic data for these tickers...\n",
      "\n",
      "Example ticker data for CMBM:\n",
      "                 Open       High        Low      Close  Adj Close   Volume\n",
      "Date                                                                      \n",
      "2021-06-01  58.939999  59.250000  55.770000  57.500000  57.500000   219100\n",
      "2021-06-02  54.075001  54.619999  48.009998  48.910000  48.910000   754300\n",
      "2021-06-03  45.680000  46.610001  45.040001  45.619999  45.619999  1881600\n",
      "2021-06-04  45.400002  48.932999  45.310001  48.150002  48.150002  1331000\n",
      "2021-06-07  48.000000  50.418999  47.810001  49.689999  49.689999   479100\n",
      "...               ...        ...        ...        ...        ...      ...\n",
      "2022-05-24  13.350000  13.375000  12.640000  13.180000  13.180000   111600\n",
      "2022-05-25  13.130000  13.560000  13.000000  13.340000  13.340000    96000\n",
      "2022-05-26  13.260000  13.900000  13.140000  13.770000  13.770000   106600\n",
      "2022-05-27  13.970000  14.750000  13.880000  14.660000  14.660000   112300\n",
      "2022-05-31  14.710000  14.710000  14.140000  14.290000  14.290000   246900\n",
      "\n",
      "[253 rows x 6 columns]\n",
      "\n",
      "There are 45 tickers that no longer exist or were listed on an exchange after 2021-06-01 and are being removed.\n",
      "Processing trade 852\r"
     ]
    }
   ],
   "source": [
    "test_XY_incomplete, historicDat = cleanAndFormatDF(\n",
    "    'data/sec4_Mar2022', \n",
    "    'data/insiderDat_Mar2022_clean', \n",
    "    'data/historicDat',                                      \n",
    "    newORload='load', \n",
    "    startDate='2021-06-01',\n",
    "    endDate='2022-08-01'\n",
    ")\n",
    "\n",
    "test_XY_unprepped = createAllFeatures(test_XY_incomplete, historicDat)\n",
    "test_XY, test_X, test_Y = returnXandY(prepareForModel(test_XY_unprepped), '2022-03-29', '2022-04-04')"
   ]
  },
  {
   "cell_type": "code",
   "execution_count": 8,
   "id": "7e664629-9f8f-4205-9d9e-bcd9fb2aa407",
   "metadata": {},
   "outputs": [],
   "source": [
    "xgb_model = xgb.XGBRegressor()\n",
    "xgb_model.load_model('models/xgb_model.json')\n",
    "test_Y_preds = xgb_model.predict(test_X)\n",
    "\n",
    "test_XY['XGB_Prediction'] = test_Y_preds\n",
    "save_obj(test_XY, 'data/test_XY')"
   ]
  },
  {
   "cell_type": "code",
   "execution_count": 9,
   "id": "127d73fd-0084-4bd3-9403-e9549a810d4f",
   "metadata": {},
   "outputs": [
    {
     "name": "stdout",
     "output_type": "stream",
     "text": [
      "Buying CRM on 2022-03-30, currently $219.71\n",
      "Buying STIM on 2022-03-30, currently $3.06\n",
      "Buying WKHS on 2022-03-30, currently $4.95\n",
      "Buying HLBZ on 2022-03-30, currently $3.24\n",
      "Buying PQEFF on 2022-03-30, currently $0.35\n",
      "Buying LCTX on 2022-03-30, currently $1.53\n",
      "Buying BNED on 2022-03-31, currently $3.55\n",
      "Buying TLRS on 2022-03-31, currently $0.28\n",
      "Buying OGEN on 2022-03-31, currently $0.35\n",
      "Buying LPTH on 2022-03-31, currently $2.04\n",
      "Buying CLNN on 2022-03-31, currently $3.6\n",
      "Selling PQEFF on 2022-03-30, currently $0.37, for 5.37% profit\n",
      "Buying PMD on 2022-04-01, currently $6.9\n",
      "Buying SPLP on 2022-04-01, currently $42.1\n",
      "Buying CRM on 2022-04-01, currently $212.48\n",
      "Buying IGXT on 2022-04-01, currently $0.26\n",
      "Buying CRM on 2022-04-01, currently $212.48\n",
      "Buying CREX on 2022-04-01, currently $0.85\n",
      "Selling CLNN on 2022-03-31, currently $3.94, for 9.44% profit\n",
      "Buying BRTX on 2022-04-04, currently $5.59\n",
      "Buying SXT on 2022-04-04, currently $85.8\n",
      "Buying MRNA on 2022-04-04, currently $177.24\n",
      "Buying OGEN on 2022-04-04, currently $0.38\n",
      "Buying AAIC on 2022-04-04, currently $3.53\n",
      "Selling BNED on 2022-04-01, currently $3.75, for 5.63% profit\n",
      "Selling IGXT on 2022-04-01, currently $0.28, for 7.69% profit\n",
      "Buying CRM on 2022-04-05, currently $218.0\n",
      "Buying TFFP on 2022-04-05, currently $7.54\n",
      "Buying ABIO on 2022-04-05, currently $2.36\n",
      "Buying CMI on 2022-04-05, currently $201.83\n",
      "Buying CMI on 2022-04-05, currently $201.83\n",
      "Buying CMI on 2022-04-05, currently $201.83\n",
      "Selling WKHS on 2022-04-04, currently $5.34, for 7.88% profit\n",
      "Selling OGEN on 2022-04-04, currently $0.42, for 20.0% profit\n",
      "Selling OGEN on 2022-04-04, currently $0.42, for 10.53% profit\n",
      "Selling STIM on 2022-04-05, currently $3.25, for 6.21% profit\n",
      "Selling SPLP on 2022-05-17, currently $44.71, for 6.2% profit\n",
      "Selling CMI on 2022-06-06, currently $212.65, for 5.36% profit\n",
      "Selling CMI on 2022-06-06, currently $212.65, for 5.36% profit\n",
      "Selling CMI on 2022-06-06, currently $212.65, for 5.36% profit\n",
      "Selling ABIO on 2022-06-23, currently $2.53, for 7.2% profit\n",
      "Selling LCTX on 2022-06-29, currently $1.61, for 5.23% profit\n",
      "\n",
      "-----------------------------------------\n",
      "\n",
      "We invested $28. Our portfolio is now worth $25.26, giving a return of -9.78%.\n"
     ]
    }
   ],
   "source": [
    "runTradeSimulation(test_XY, 'XGB_Prediction', historicDat, '2022-03-29', '2022-06-29', buyThresh=10, sellThresh=5)"
   ]
  },
  {
   "cell_type": "markdown",
   "id": "e42d8bf1-492a-4658-baf4-01bdf565d5d9",
   "metadata": {},
   "source": [
    "## We were successful in a bull market, but not so much a bear market.\n",
    "I mean, we did still outperform the S&P500 by 8 percentage points, but we can't exactly brag that we created a portfolio that lost money.\n",
    "\n",
    "However...\n",
    "\n",
    "(1) Remember that this is one of the most simplistic investment strategies imagineable.\n",
    "\n",
    "(2) Luckily, I am not actually managing my money with this strategy.\n",
    "\n",
    "(3) Strategy aside -- the fact that this didn't generalize perfectly gives me more ideas on how to make the model more robust! "
   ]
  },
  {
   "cell_type": "markdown",
   "id": "68da737f-15e4-49cd-9ff7-c053a22410e2",
   "metadata": {},
   "source": [
    "### Here a few thoughts I have for model improvement...\n",
    "- **We need more data!** 5000 training examples probably isn't enough.\n",
    "- **Purchases are underrepresented.** Common wisdom says that investors may sell for any of a number of reasons, but they only buy for one reason. The data set has a lopsided majority of trades that are sales, which may cause our algorithms to miss out on important information to be gained from purchases.\n",
    "- **We need to be aware of current market trends.** The stock market is dynamic. Insider trades might signal different outcomes depending on how the economy is doing as a whole. This should inform our choice of training set.\n",
    "- **For a neural model:** We need to have more outputs! We could use the Keras Functional API to have different activations in the final layer, such as\n",
    "    - a softmax output categorizing the max price increase in the next X days,\n",
    "    - a linear output predicting the actual max price increase in the next X days,\n",
    "    - a sigmoid output predicting *where* in the X-day window the max price will occur\n",
    "- **For XGBoost:** We might be better-served by predicting price categories (e.g. 0-5%, 5-10%, etc.) instead of actual price increase. This may help remove some of the extreme noise. (For example, a 20% run and a 40% run are both great things to identify, but our model would think it performed poorly if it respectively predicted 40% and 20%!)"
   ]
  },
  {
   "cell_type": "code",
   "execution_count": null,
   "id": "3d6e4097-77c5-4da5-8ff6-11eb8fb383a5",
   "metadata": {},
   "outputs": [],
   "source": []
  }
 ],
 "metadata": {
  "kernelspec": {
   "display_name": "Python 3",
   "language": "python",
   "name": "python3"
  },
  "language_info": {
   "codemirror_mode": {
    "name": "ipython",
    "version": 3
   },
   "file_extension": ".py",
   "mimetype": "text/x-python",
   "name": "python",
   "nbconvert_exporter": "python",
   "pygments_lexer": "ipython3",
   "version": "3.8.8"
  }
 },
 "nbformat": 4,
 "nbformat_minor": 5
}
