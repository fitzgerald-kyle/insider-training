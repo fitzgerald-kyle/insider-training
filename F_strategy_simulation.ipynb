{
 "cells": [
  {
   "cell_type": "markdown",
   "id": "7ca29d73-53eb-4725-900b-eaa5636f04ca",
   "metadata": {},
   "source": [
    "## XGBoost Investment Strategy Demo\n",
    "\n",
    "I'm a total novice in this area, and I'm not afraid to admit it! Luckily, designing a foolproof investment strategy wasn't the point of this project. The point was to see if we've learned to identify which insider trades are worth paying attention to!\n",
    "\n",
    "\n",
    "#### However, to clearly demonstrate what has been learned, let's define a REALLY simple strategy:\n",
    "- Knowing that our algorithm is conservative, we'll only put faith in high predictions: If an insider trade is filed that our algorithm predicts will rise by >10\\%, purchase \\\\$1 at the next day's opening.\n",
    "- If, in the next 90 days, the value of our purchase is at least 15% higher at any closing, immediately sell. (Our algorithm is conservative enough that we've decided to be greedy, hoping to squeeze out a bit more gain than predicted.)\n",
    "\n",
    "This strategy, of course, assumes that we successfully make each purchase right at the opening and each sell right at the closing."
   ]
  },
  {
   "cell_type": "code",
   "execution_count": 121,
   "id": "28e567eb-68a7-4528-bf14-fc691679e6de",
   "metadata": {},
   "outputs": [],
   "source": [
    "import datetime as dt\n",
    "import numpy as np\n",
    "import pandas as pd\n",
    "import nbimporter\n",
    "import sys\n",
    "import xgboost as xgb\n",
    "\n",
    "from sklearn.metrics import mean_squared_error\n",
    "\n",
    "'''\n",
    "Import functions from other notebooks I wrote.\n",
    "'''\n",
    "mods = ['A_exploratory_analysis', 'B_create_all_features', 'C_prep_and_split_data']\n",
    "[sys.modules.pop(mod) for mod in mods if mod in sys.modules]\n",
    "from A_exploratory_analysis import save_obj, load_obj, returnDataOnDate, cleanAndFormatDF\n",
    "from B_create_all_features import createAllFeatures\n",
    "from C_prep_and_split_data import prepareForModel, returnXandY"
   ]
  },
  {
   "cell_type": "code",
   "execution_count": 6,
   "id": "69cff9d7-27c0-4913-9746-ac1c7adf2026",
   "metadata": {},
   "outputs": [],
   "source": [
    "cv_XY = load_obj('data/cv_XY')"
   ]
  },
  {
   "cell_type": "code",
   "execution_count": 7,
   "id": "4b35e734-b96f-4923-9301-2cdd086ce45c",
   "metadata": {},
   "outputs": [],
   "source": [
    "historicDat = load_obj('data/historicDat')"
   ]
  },
  {
   "cell_type": "markdown",
   "id": "15644032-ce38-4c62-928d-b47231d46935",
   "metadata": {},
   "source": [
    "### Defining our simulation function:"
   ]
  },
  {
   "cell_type": "code",
   "execution_count": 129,
   "id": "57abeb0b-1243-4c2d-917c-23c4493b70b4",
   "metadata": {},
   "outputs": [],
   "source": [
    "def runTradeSimulation(data_XY, historicDat, startDate, endDate, buyThresh, sellThresh):\n",
    "    purchasesDict = {}\n",
    "    totalInvested = 0\n",
    "    totalProfit = 0\n",
    "\n",
    "    for d in pd.date_range(start=startDate, end=endDate):    \n",
    "        currentDate = dt.date.strftime(d.date(), '%Y-%m-%d')\n",
    "\n",
    "        for tradeNum, trade in data_XY[data_XY['FilingDate'] == d.date()].iterrows():\n",
    "            # Check prediction. If high enough, purchase at next day's opening.\n",
    "            if trade['Prediction'] < buyThresh:\n",
    "                continue\n",
    "\n",
    "            tick = trade['Ticker']\n",
    "\n",
    "            buyPrice, buyDate = returnDataOnDate(historicDat, tick, currentDate, delta=1, dataName='Open')\n",
    "            buyDate = dt.date.strftime(buyDate, '%Y-%m-%d')\n",
    "\n",
    "            totalInvested += 1\n",
    "\n",
    "            print(f'''Buying {tick} on {buyDate}, currently ${round(buyPrice, 2)}''')\n",
    "\n",
    "            if tick in purchasesDict.keys():\n",
    "                purchasesDict[tick]['BuyPrice'].append(buyPrice)\n",
    "                purchasesDict[tick]['SellPrice'].append(None)\n",
    "            else:\n",
    "                purchasesDict[tick] = {'BuyPrice': [buyPrice], 'SellPrice': [None]}\n",
    "\n",
    "\n",
    "        # Check current already-purchased stocks. If value has risen enough, sell at closing.\n",
    "        for tick, elem in purchasesDict.items():\n",
    "            for buyNum, buyPrice in enumerate(elem['BuyPrice']):\n",
    "                try:\n",
    "                    currPrice = historicDat[tick].loc[currentDate]['Close']\n",
    "                    if (currPrice > (1. + sellThresh/100)*buyPrice) and (elem['SellPrice'][buyNum] is None):\n",
    "                        elem['SellPrice'][buyNum] = currPrice\n",
    "                        profit = (currPrice-buyPrice) / buyPrice\n",
    "                        totalProfit += profit\n",
    "                        print(f'Selling {tick} on {currentDate}, currently ${round(currPrice, 2)}, ' +\n",
    "                                     f'for {round(100*profit, 2)}% profit')\n",
    "                              \n",
    "                except KeyError:\n",
    "                    pass  # unable to sell on this day; move on\n",
    "\n",
    "            # sell everything that hasn't already been sold on the last day\n",
    "            # (make sure that this is a day that the market is open!)\n",
    "            if d.date() == dt.datetime.strptime(endDate, '%Y-%m-%d').date():\n",
    "                currPrice = historicDat[tick].loc[currentDate]['Close']\n",
    "                totalProfit += sum([(currPrice-elem['BuyPrice'][idx])/elem['BuyPrice'][idx] \n",
    "                                    for idx, val in enumerate(elem['SellPrice']) if val is None])\n",
    "                elem['SellPrice'] = [currPrice if val is None else val for val in elem['SellPrice']]\n",
    "\n",
    "\n",
    "    print('\\n-----------------------------------------\\n')\n",
    "\n",
    "    '''Determine total profit in the given time period.'''\n",
    "    print(f'We invested ${totalInvested}. Our portfolio is now worth ${round(totalInvested+totalProfit, 2)}, ' +\n",
    "          f'giving a return of {round(100*totalProfit/totalInvested, 2)}%.')"
   ]
  },
  {
   "cell_type": "code",
   "execution_count": 130,
   "id": "62f816cc-8bc2-4be3-b30e-c223e251ac23",
   "metadata": {},
   "outputs": [
    {
     "name": "stdout",
     "output_type": "stream",
     "text": [
      "Buying BILL on 2021-06-29, currently $187.0\n",
      "Buying ASAN on 2021-06-29, currently $63.15\n",
      "Buying TRVN on 2021-06-29, currently $1.86\n",
      "Buying GMS on 2021-06-29, currently $49.4\n",
      "Buying CVNA on 2021-06-29, currently $301.63\n",
      "Buying CVNA on 2021-06-29, currently $301.63\n",
      "Buying CVNA on 2021-06-29, currently $301.63\n",
      "Buying ZI on 2021-06-30, currently $53.0\n",
      "Buying ZI on 2021-06-30, currently $53.0\n",
      "Buying CVNA on 2021-06-30, currently $301.67\n",
      "Buying UHAL on 2021-06-30, currently $587.37\n",
      "Buying TLRS on 2021-06-30, currently $0.22\n",
      "Buying ZI on 2021-06-30, currently $53.0\n",
      "Buying ZI on 2021-06-30, currently $53.0\n",
      "Buying CVNA on 2021-07-01, currently $300.0\n",
      "Buying ZI on 2021-07-01, currently $52.0\n",
      "Buying ZI on 2021-07-01, currently $52.0\n",
      "Buying ZI on 2021-07-01, currently $52.0\n",
      "Buying ZI on 2021-07-01, currently $52.0\n",
      "Buying KOD on 2021-07-01, currently $95.05\n",
      "Buying ZI on 2021-07-01, currently $52.0\n",
      "Buying ASAN on 2021-07-01, currently $63.18\n",
      "Buying ZI on 2021-07-01, currently $52.0\n",
      "Buying ETSY on 2021-07-01, currently $206.41\n",
      "Buying MRNA on 2021-07-01, currently $236.3\n",
      "Selling MRNA on 2021-07-16, currently $286.43, for 21.21% profit\n",
      "Selling ASAN on 2021-07-22, currently $73.64, for 16.61% profit\n",
      "Selling ASAN on 2021-07-22, currently $73.64, for 16.56% profit\n",
      "Selling ZI on 2021-08-04, currently $60.6, for 16.54% profit\n",
      "Selling ZI on 2021-08-04, currently $60.6, for 16.54% profit\n",
      "Selling ZI on 2021-08-04, currently $60.6, for 16.54% profit\n",
      "Selling ZI on 2021-08-04, currently $60.6, for 16.54% profit\n",
      "Selling ZI on 2021-08-04, currently $60.6, for 16.54% profit\n",
      "Selling ZI on 2021-08-04, currently $60.6, for 16.54% profit\n",
      "Selling ZI on 2021-08-05, currently $66.58, for 25.62% profit\n",
      "Selling ZI on 2021-08-05, currently $66.58, for 25.62% profit\n",
      "Selling ZI on 2021-08-05, currently $66.58, for 25.62% profit\n",
      "Selling ZI on 2021-08-05, currently $66.58, for 25.62% profit\n",
      "Selling CVNA on 2021-08-06, currently $345.65, for 15.22% profit\n",
      "Selling CVNA on 2021-08-09, currently $356.34, for 18.14% profit\n",
      "Selling CVNA on 2021-08-09, currently $356.34, for 18.14% profit\n",
      "Selling CVNA on 2021-08-09, currently $356.34, for 18.14% profit\n",
      "Selling CVNA on 2021-08-09, currently $356.34, for 18.12% profit\n",
      "Selling BILL on 2021-08-23, currently $217.35, for 16.23% profit\n",
      "\n",
      "-----------------------------------------\n",
      "\n",
      "We invested $25. Our portfolio is now worth $28.34, giving a return of 13.37%.\n"
     ]
    }
   ],
   "source": [
    "runTradeSimulation(cv_XY, historicDat, '2021-06-27', '2021-09-27', buyThresh=10, sellThresh=15)"
   ]
  },
  {
   "cell_type": "markdown",
   "id": "078bd8e1-cd23-4835-aba9-7af5793768ae",
   "metadata": {},
   "source": [
    "## Success!\n",
    "From 2021-06-27 to 2021-09-27, the SPY ETF fund rose by 3.56%.\n",
    "\n",
    "Over this time period, with just 4 days of buying, our algorithm outperforms SPY by nearly ***10 percentage points***.\n",
    "\n",
    "This is incredible! It almost seems too good to be true...\n",
    "\n",
    "A major caveat is that our cross-validation is being performed on trades from a time period when the market was red-hot. The market suffered a bit in early September 2021, but the months of June, July, and August were some of the most profitable months in recent memory, at least in terms of the S&P500.\n",
    "\n",
    "In particular, we could get away with assuming that our algorithm's estimates would indeed be conservative!\n",
    "\n",
    "A real way to test our algorithm is to see if it still generates a profit during a bearish market period. For example, let's gather data from 2022-03-29 to 2022-06-29, over which period the value of SPY tumbled by 17.38%:"
   ]
  },
  {
   "cell_type": "code",
   "execution_count": null,
   "id": "7ea48e4c-ca2c-4043-a5c5-91ef0e93a0f5",
   "metadata": {
    "scrolled": true,
    "tags": []
   },
   "outputs": [],
   "source": [
    "test_XY_incomplete, historicDat_temp = cleanAndFormatDF(\n",
    "    'data/sec4_Mar2022', \n",
    "    'data/insiderDat_Mar2022_clean', \n",
    "    'data/historicDat',                                      \n",
    "    newORload='load', \n",
    "    startDate='2021-06-01',\n",
    "    endDate='2022-08-01'\n",
    ")\n",
    "\n",
    "historicDat.update(historicDat_temp)\n",
    "save_obj(historicDat, 'data/historicDat')\n",
    "\n",
    "test_XY_unprepped = createAllFeatures(test_XY_incomplete, historicDat, '2022-03-28', '2022-04-04')\n",
    "test_XY, test_X, test_Y = returnXandY(prepareForModel(test_XY_unprepped), '2022-03-29', '2022-04-04')"
   ]
  },
  {
   "cell_type": "code",
   "execution_count": 118,
   "id": "7e664629-9f8f-4205-9d9e-bcd9fb2aa407",
   "metadata": {},
   "outputs": [
    {
     "name": "stdout",
     "output_type": "stream",
     "text": [
      "test MSE:  126.51099537834722\n"
     ]
    }
   ],
   "source": [
    "xgb_model = xgb.XGBRegressor()\n",
    "xgb_model.load_model('models/xgb_model.json')\n",
    "test_Y_preds = xgb_model.predict(test_X)\n",
    "\n",
    "test_XY['Prediction'] = test_Y_preds\n",
    "save_obj(test_XY, 'data/test_XY')\n",
    "\n",
    "print('test MSE: ', mean_squared_error(test_Y, test_Y_preds))"
   ]
  },
  {
   "cell_type": "markdown",
   "id": "d4526d8b-e55f-4b81-a702-0605028f470c",
   "metadata": {},
   "source": [
    "Notice that the MSE here is much lower than the training and CV MSEs (631 and 692, respectively), likely because there are far fewer runs that overwhelmingly outperform our algorithm's expectations."
   ]
  },
  {
   "cell_type": "code",
   "execution_count": 140,
   "id": "127d73fd-0084-4bd3-9403-e9549a810d4f",
   "metadata": {},
   "outputs": [
    {
     "name": "stdout",
     "output_type": "stream",
     "text": [
      "Buying CRM on 2022-03-30, currently $219.71\n",
      "Buying SXT on 2022-03-30, currently $86.66\n",
      "Buying STIM on 2022-03-30, currently $3.06\n",
      "Buying MORN on 2022-03-30, currently $280.49\n",
      "Buying LLY on 2022-03-30, currently $290.58\n",
      "Buying BRTX on 2022-03-30, currently $5.4\n",
      "Buying HLBZ on 2022-03-30, currently $3.24\n",
      "Buying PQEFF on 2022-03-30, currently $0.35\n",
      "Buying LCTX on 2022-03-30, currently $1.53\n",
      "Buying CRM on 2022-03-31, currently $214.5\n",
      "Buying NSYS on 2022-03-31, currently $10.15\n",
      "Buying PQEFF on 2022-03-31, currently $0.38\n",
      "Buying LPTH on 2022-03-31, currently $2.04\n",
      "Buying LLY on 2022-03-31, currently $289.37\n",
      "Selling PQEFF on 2022-03-30, currently $0.37, for 5.37% profit\n",
      "Buying JHG on 2022-04-01, currently $35.67\n",
      "Buying JHG on 2022-04-01, currently $35.67\n",
      "Buying SPLP on 2022-04-01, currently $42.1\n",
      "Buying SPLP on 2022-04-01, currently $42.1\n",
      "Buying CRM on 2022-04-01, currently $212.48\n",
      "Buying HGBL on 2022-04-01, currently $1.36\n",
      "Buying LLY on 2022-04-01, currently $286.15\n",
      "Buying BTTX on 2022-04-01, currently $2.04\n",
      "Buying SEEL on 2022-04-01, currently $0.86\n",
      "Buying CRM on 2022-04-01, currently $212.48\n",
      "Buying CREX on 2022-04-01, currently $0.85\n",
      "Buying BRTX on 2022-04-04, currently $5.59\n",
      "Buying MRNA on 2022-04-04, currently $177.24\n",
      "Buying OGEN on 2022-04-04, currently $0.38\n",
      "Buying AAIC on 2022-04-04, currently $3.53\n",
      "Buying CRM on 2022-04-05, currently $218.0\n",
      "Buying TFFP on 2022-04-05, currently $7.54\n",
      "Buying STIM on 2022-04-05, currently $3.36\n",
      "Buying ABIO on 2022-04-05, currently $2.36\n",
      "Buying LLY on 2022-04-05, currently $291.72\n",
      "Buying EVOL on 2022-04-05, currently $1.9\n",
      "Buying HMTV on 2022-04-05, currently $4.56\n",
      "Selling SEEL on 2022-04-04, currently $0.93, for 8.14% profit\n",
      "Selling OGEN on 2022-04-04, currently $0.42, for 10.53% profit\n",
      "Selling STIM on 2022-04-05, currently $3.25, for 6.21% profit\n",
      "Selling BRTX on 2022-04-05, currently $5.85, for 8.33% profit\n",
      "Selling LLY on 2022-04-06, currently $305.84, for 5.25% profit\n",
      "Selling LLY on 2022-04-06, currently $305.84, for 5.69% profit\n",
      "Selling LLY on 2022-04-06, currently $305.84, for 6.88% profit\n",
      "Selling LLY on 2022-04-07, currently $308.43, for 5.73% profit\n",
      "Selling NSYS on 2022-04-19, currently $11.6, for 14.29% profit\n",
      "Selling BTTX on 2022-05-04, currently $2.17, for 6.37% profit\n",
      "Selling HMTV on 2022-05-09, currently $6.74, for 47.81% profit\n",
      "Selling SPLP on 2022-05-17, currently $44.71, for 6.2% profit\n",
      "Selling SPLP on 2022-05-17, currently $44.71, for 6.2% profit\n",
      "Selling STIM on 2022-06-09, currently $3.63, for 8.04% profit\n",
      "Selling HGBL on 2022-06-17, currently $1.55, for 13.97% profit\n",
      "Selling ABIO on 2022-06-23, currently $2.53, for 7.2% profit\n",
      "Selling LCTX on 2022-06-29, currently $1.61, for 5.23% profit\n",
      "\n",
      "-----------------------------------------\n",
      "\n",
      "We invested $36. Our portfolio is now worth $32.74, giving a return of -9.05%.\n"
     ]
    }
   ],
   "source": [
    "runTradeSimulation(test_XY, historicDat, '2022-03-29', '2022-06-29', buyThresh=10, sellThresh=5)"
   ]
  },
  {
   "cell_type": "markdown",
   "id": "e42d8bf1-492a-4658-baf4-01bdf565d5d9",
   "metadata": {},
   "source": [
    "## Well that's a bummer.\n",
    "I mean, we did outperform the S&P500 by 8 percentage points, but we can't exactly brag that we created a portfolio that lost money.\n",
    "\n",
    "However...\n",
    "\n",
    "(1) Remember that this is one of the most simplistic investment strategies imagineable.\\\n",
    "(2) Luckily, I am not actually managing my money with this strategy.\\\n",
    "(3) Strategy aside -- the fact that this didn't generalize perfectly gives me more ideas on how to make the model more robust! "
   ]
  },
  {
   "cell_type": "markdown",
   "id": "68da737f-15e4-49cd-9ff7-c053a22410e2",
   "metadata": {},
   "source": [
    "### Here a few thoughts I have for model improvement...\n",
    "- **We need more data!** 5000 training examples probably isn't enough.\n",
    "- **Purchases are underrepresented.** Common wisdom says that investors may sell for any of a number of reasons, but they only buy for one reason. The data set has a lopsided majority of trades that are sales, which may cause our algorithms to miss out on important information to be gained from purchases.\n",
    "- **We need to be aware of current market trends.** The stock market is dynamic. Insider trades might signal different outcomes depending on how the economy is doing as a whole. This should inform our choice of training set.\n",
    "- **For a neural model:** We need to have more outputs! We could use the Keras Functional API to have different activations in the final layer, such as\n",
    "    - a softmax output categorizing the max price increase in the next X days,\n",
    "    - a linear output predicting the actual max price increase in the next X days,\n",
    "    - a sigmoid output predicting *where* in the X-day window the max price will occur\n",
    "- **For XGBoost:** We might be better-served by predicting price categories (e.g. 0-5%, 5-10%, etc.) instead of actual price increase. This may help remove some of the extreme noise. (For example, a 20% run and a 40% run are both great things to identify, but our model would think it performed poorly if it respectiely predicted 40% and 20%!)"
   ]
  },
  {
   "cell_type": "code",
   "execution_count": null,
   "id": "3d6e4097-77c5-4da5-8ff6-11eb8fb383a5",
   "metadata": {},
   "outputs": [],
   "source": []
  }
 ],
 "metadata": {
  "kernelspec": {
   "display_name": "Python 3",
   "language": "python",
   "name": "python3"
  },
  "language_info": {
   "codemirror_mode": {
    "name": "ipython",
    "version": 3
   },
   "file_extension": ".py",
   "mimetype": "text/x-python",
   "name": "python",
   "nbconvert_exporter": "python",
   "pygments_lexer": "ipython3",
   "version": "3.8.8"
  }
 },
 "nbformat": 4,
 "nbformat_minor": 5
}
