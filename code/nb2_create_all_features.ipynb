{
 "cells": [
  {
   "cell_type": "markdown",
   "id": "b3578043-c136-4a59-89d3-f511f6ff1033",
   "metadata": {},
   "source": [
    "### Here, we add derived trade features to features already obtained from the CSV."
   ]
  },
  {
   "cell_type": "code",
   "execution_count": 1,
   "id": "080d1231-7487-4187-8a52-ad87b3bd0a89",
   "metadata": {},
   "outputs": [],
   "source": [
    "%load_ext autoreload\n",
    "%autoreload 1\n",
    "%aimport my_functions\n",
    "\n",
    "import pandas as pd\n",
    "import datetime as dt\n",
    "import numpy as np\n",
    "\n",
    "from my_functions import *\n",
    "\n",
    "pd.options.mode.chained_assignment = None"
   ]
  },
  {
   "cell_type": "code",
   "execution_count": 10,
   "id": "761396db",
   "metadata": {},
   "outputs": [],
   "source": [
    "'''\n",
    "Load insider trade data and historic ticker data.\n",
    "'''\n",
    "insiderDat = pd.read_csv('../data/insiderDat_June2021ToOct2022_clean.csv')\n",
    "historicDat = my_misc.load_obj('../data/historicDat')"
   ]
  },
  {
   "cell_type": "code",
   "execution_count": 11,
   "id": "8498c255-3c05-40e6-851c-6d6f67c71300",
   "metadata": {},
   "outputs": [],
   "source": [
    "DAYS_TO_LOOK_FORWARD = 5  # for computing best price increase\n",
    "DAYS_TO_LOOK_BACK = 5  # for computing volume volatility and related insider buys\n",
    "#WINDOW_LEN = 3  # number of days over which to compute median price increase\n",
    "MIN_OUTPUT = 1e-6  # change all lower price changes to this value\n",
    "MAX_OUTPUT = 25. - 1e-6  # change all highger price changes to this value"
   ]
  },
  {
   "cell_type": "code",
   "execution_count": 13,
   "id": "4a12d79f-649a-4693-9180-af54b34b3158",
   "metadata": {},
   "outputs": [
    {
     "name": "stdout",
     "output_type": "stream",
     "text": [
      "Processing trade: Done!\n"
     ]
    }
   ],
   "source": [
    "insiderDat_complete = my_features.createAllFeatures(\n",
    "    insiderDat, historicDat, DAYS_TO_LOOK_FORWARD, DAYS_TO_LOOK_BACK, MIN_OUTPUT, MAX_OUTPUT\n",
    ")"
   ]
  },
  {
   "cell_type": "code",
   "execution_count": 14,
   "id": "67180a03-20d9-4be3-bd23-0a7ab0133415",
   "metadata": {},
   "outputs": [
    {
     "name": "stdout",
     "output_type": "stream",
     "text": [
      "Here is an example of a row that contains all trade features:\n",
      "\n"
     ]
    },
    {
     "data": {
      "text/plain": [
       "FilingDate                                           2022-10-21\n",
       "TradeDate                                            2022-10-20\n",
       "Ticker                                                     ATAX\n",
       "CompanyName           America First Multifamily Investors, L.P.\n",
       "InsiderName                                    Wilson Deborah A\n",
       "Title                                                       Dir\n",
       "TradeType                                          P - Purchase\n",
       "Price                                                      18.0\n",
       "Qty                                                       555.0\n",
       "Owned                                                    5998.0\n",
       "DeltaOwn                                              10.196583\n",
       "Value                                                    9990.0\n",
       "RecentTickerTrades                                            1\n",
       "TradeToFileTime                                               1\n",
       "ValueOwned                                             107964.0\n",
       "VolumeVolatility                                       0.340936\n",
       "PriceVolatility                                         0.00998\n",
       "%FuturePriceChange                                     0.000001\n",
       "val_SPY                                              374.290009\n",
       "Name: 15784, dtype: object"
      ]
     },
     "execution_count": 14,
     "metadata": {},
     "output_type": "execute_result"
    }
   ],
   "source": [
    "print('Here is an example of a row that contains all trade features:\\n')\n",
    "insiderDat_complete.iloc[-1]"
   ]
  },
  {
   "cell_type": "code",
   "execution_count": 15,
   "id": "bd456b70",
   "metadata": {},
   "outputs": [],
   "source": [
    "insiderDat_complete.to_csv('../data/training_cv_test.csv')"
   ]
  },
  {
   "cell_type": "code",
   "execution_count": null,
   "id": "b6b7d485",
   "metadata": {},
   "outputs": [],
   "source": []
  }
 ],
 "metadata": {
  "kernelspec": {
   "display_name": "Python 3",
   "language": "python",
   "name": "python3"
  },
  "language_info": {
   "codemirror_mode": {
    "name": "ipython",
    "version": 3
   },
   "file_extension": ".py",
   "mimetype": "text/x-python",
   "name": "python",
   "nbconvert_exporter": "python",
   "pygments_lexer": "ipython3",
   "version": "3.8.8"
  }
 },
 "nbformat": 4,
 "nbformat_minor": 5
}
