{
 "cells": [
  {
   "cell_type": "markdown",
   "id": "7ca29d73-53eb-4725-900b-eaa5636f04ca",
   "metadata": {},
   "source": [
    "## Investment Strategy Demo\n",
    "\n",
    "Our XGBoost model is performing better than the neural network at the moment, so we'll demo with just XGBoost.\n",
    "\n",
    "I'm a novice when it comes to developing trading strategies, and I'm not afraid to admit it. Luckily, our model is here to save us. If we use its predictions to inform the simplest of trading strategies, and that strategy competes with the SPY fund, then we'll know that our model is useful.\n",
    "\n",
    "#### Here's a *really* simple strategy:\n",
    "- Knowing that our algorithm is conservative and tends to be more accurate about high predictions, we'll only put faith in high predictions: If an insider trade is filed for a ticker that our algorithm predicts will increase by >10% in valuation, purchase \\\\$1 at the next day's opening.\n",
    "- Hold onto our shares unless their value is >10% higher at any market closing, in which case we immediately sell.\n",
    "\n",
    "This strategy, of course, assumes that we successfully make each purchase right at the opening and each sell right at the closing."
   ]
  },
  {
   "cell_type": "code",
   "execution_count": 1,
   "id": "28e567eb-68a7-4528-bf14-fc691679e6de",
   "metadata": {},
   "outputs": [],
   "source": [
    "%load_ext autoreload\n",
    "%autoreload 1\n",
    "%aimport my_functions\n",
    "\n",
    "import datetime as dt\n",
    "import numpy as np\n",
    "import pandas as pd\n",
    "import xgboost as xgb\n",
    "import tensorflow as tf\n",
    "\n",
    "strptime = dt.datetime.strptime\n",
    "strftime = dt.date.strftime\n",
    "\n",
    "from my_functions import *"
   ]
  },
  {
   "cell_type": "code",
   "execution_count": 2,
   "id": "abc3face-a2c4-414f-92a1-dd384d097b29",
   "metadata": {},
   "outputs": [],
   "source": [
    "DAYS_TO_LOOK_FORWARD = 5  # for computing best price increase"
   ]
  },
  {
   "cell_type": "code",
   "execution_count": 3,
   "id": "b0f97850-639a-4b85-8ed8-b335f91588b0",
   "metadata": {},
   "outputs": [],
   "source": [
    "historicDat = my_misc.load_obj('data/historicDat')"
   ]
  },
  {
   "cell_type": "code",
   "execution_count": 4,
   "id": "7ea48e4c-ca2c-4043-a5c5-91ef0e93a0f5",
   "metadata": {
    "tags": []
   },
   "outputs": [],
   "source": [
    "test_XY, test_X, test_Y = my_model_prep.returnXandY(pd.read_csv('data/test.csv'))"
   ]
  },
  {
   "cell_type": "code",
   "execution_count": 5,
   "id": "7e664629-9f8f-4205-9d9e-bcd9fb2aa407",
   "metadata": {},
   "outputs": [],
   "source": [
    "'''\n",
    "Use our trained model to generate price-change predictions for the test set.\n",
    "'''\n",
    "#nn_model= tf.keras.models.load_model('models/nn_model')\n",
    "xgb_model = xgb.XGBRegressor()\n",
    "xgb_model.load_model('models/xgb_model.json')\n",
    "\n",
    "test_Y_preds = xgb_model.predict(test_X.drop('Unnamed: 0', axis=1))\n",
    "\n",
    "test_XY['XGB_Prediction'] = test_Y_preds\n",
    "my_misc.save_obj(test_XY, 'data/test_XY')"
   ]
  },
  {
   "cell_type": "code",
   "execution_count": 9,
   "id": "127d73fd-0084-4bd3-9403-e9549a810d4f",
   "metadata": {},
   "outputs": [
    {
     "name": "stdout",
     "output_type": "stream",
     "text": [
      "Buying BSET on 2022-10-10, currently $15.76\n",
      "Buying SRRK on 2022-10-10, currently $7.94\n",
      "Buying RKT on 2022-10-10, currently $6.73\n",
      "Buying HSON on 2022-10-10, currently $32.86\n",
      "Buying DFCO on 2022-10-10, currently $0.14\n",
      "Buying FARM on 2022-10-10, currently $4.79\n",
      "Buying RKT on 2022-10-10, currently $6.73\n",
      "Buying WAVD on 2022-10-10, currently $1.11\n",
      "Buying TPL on 2022-10-10, currently $1999.79\n",
      "Selling BSET on 2022-10-11, currently $17.83, for 13.13% profit\n",
      "Buying OTLK on 2022-10-12, currently $1.24\n",
      "Buying ANGO on 2022-10-12, currently $13.67\n",
      "Buying CRDF on 2022-10-12, currently $1.56\n",
      "Buying RCKT on 2022-10-12, currently $17.33\n",
      "Buying CAMP on 2022-10-12, currently $3.62\n",
      "Buying NILE on 2022-10-12, currently $0.18\n",
      "Buying ESTE on 2022-10-12, currently $13.77\n",
      "Buying ESTE on 2022-10-12, currently $13.77\n",
      "Buying OTLK on 2022-10-12, currently $1.24\n",
      "Buying RWLK on 2022-10-12, currently $0.8\n",
      "Buying NREF on 2022-10-12, currently $15.59\n",
      "Buying NREF on 2022-10-12, currently $15.59\n",
      "Buying WAVD on 2022-10-12, currently $1.22\n",
      "Buying CAMP on 2022-10-12, currently $3.62\n",
      "Buying NDLS on 2022-10-12, currently $5.1\n",
      "Buying VEII on 2022-10-12, currently $0.25\n",
      "Buying BYRN on 2022-10-12, currently $5.83\n",
      "Buying BYRN on 2022-10-12, currently $5.83\n",
      "Buying BYRN on 2022-10-12, currently $5.83\n",
      "Buying TELA on 2022-10-12, currently $8.04\n",
      "Buying PLSE on 2022-10-12, currently $1.92\n",
      "Buying BYRN on 2022-10-12, currently $5.83\n",
      "Selling PLSE on 2022-10-12, currently $2.15, for 11.98% profit\n",
      "Buying BSET on 2022-10-13, currently $17.8\n",
      "Buying NILE on 2022-10-13, currently $0.18\n",
      "Buying EVA on 2022-10-13, currently $50.33\n",
      "Buying APLT on 2022-10-13, currently $0.54\n",
      "Buying EMMA on 2022-10-13, currently $0.09\n",
      "Buying CMPO on 2022-10-13, currently $5.27\n",
      "Buying VRE on 2022-10-13, currently $10.95\n",
      "Buying OCUL on 2022-10-13, currently $3.87\n",
      "Selling BYRN on 2022-10-13, currently $6.47, for 10.98% profit\n",
      "Selling BYRN on 2022-10-13, currently $6.47, for 10.98% profit\n",
      "Selling BYRN on 2022-10-13, currently $6.47, for 10.98% profit\n",
      "Selling BYRN on 2022-10-13, currently $6.47, for 10.98% profit\n",
      "Selling EMMA on 2022-10-13, currently $0.13, for 54.12% profit\n",
      "Selling VRE on 2022-10-13, currently $12.11, for 10.59% profit\n",
      "Buying APLT on 2022-10-14, currently $0.62\n",
      "Buying EMMA on 2022-10-14, currently $0.1\n",
      "Selling APLT on 2022-10-14, currently $0.62, for 14.07% profit\n",
      "Selling EMMA on 2022-10-14, currently $0.18, for 80.0% profit\n",
      "Buying STRR on 2022-10-17, currently $0.99\n",
      "Buying APLT on 2022-10-17, currently $0.67\n",
      "Buying CLSH on 2022-10-17, currently $0.11\n",
      "Buying VRE on 2022-10-17, currently $12.69\n",
      "Buying CMRA on 2022-10-17, currently $1.64\n",
      "Buying CCO on 2022-10-17, currently $1.5\n",
      "Buying HLBZ on 2022-10-17, currently $0.28\n",
      "Buying VOXX on 2022-10-17, currently $6.49\n",
      "Buying LBSR on 2022-10-17, currently $0.15\n",
      "Buying CCO on 2022-10-17, currently $1.5\n",
      "Selling APLT on 2022-10-17, currently $0.71, for 14.33% profit\n",
      "Buying AXLA on 2022-10-18, currently $1.69\n",
      "Buying DAKT on 2022-10-18, currently $2.98\n",
      "Buying AXLA on 2022-10-18, currently $1.69\n",
      "Buying FRD on 2022-10-18, currently $8.1\n",
      "Buying FRD on 2022-10-18, currently $8.1\n",
      "Buying FRD on 2022-10-18, currently $8.1\n",
      "Buying EMMA on 2022-10-18, currently $0.2\n",
      "Selling EVA on 2022-10-18, currently $55.92, for 11.11% profit\n",
      "Selling CCO on 2022-10-18, currently $1.72, for 14.67% profit\n",
      "Selling CCO on 2022-10-18, currently $1.72, for 14.67% profit\n",
      "Selling HLBZ on 2022-10-18, currently $0.42, for 50.36% profit\n",
      "Selling VOXX on 2022-10-18, currently $7.16, for 10.32% profit\n",
      "Buying CCO on 2022-10-19, currently $1.71\n",
      "Buying CCO on 2022-10-19, currently $1.71\n",
      "Buying CLSH on 2022-10-19, currently $0.08\n",
      "Buying CABA on 2022-10-19, currently $1.06\n",
      "Buying CABA on 2022-10-19, currently $1.06\n",
      "Buying CABA on 2022-10-19, currently $1.06\n",
      "Buying ASTC on 2022-10-19, currently $0.41\n",
      "Buying VOXX on 2022-10-19, currently $7.18\n",
      "Buying FRD on 2022-10-19, currently $8.52\n",
      "Buying OBTX on 2022-10-19, currently $3.82\n",
      "Selling RWLK on 2022-10-19, currently $0.89, for 11.87% profit\n",
      "Selling CLSH on 2022-10-19, currently $0.14, for 25.82% profit\n",
      "Selling CLSH on 2022-10-19, currently $0.14, for 63.59% profit\n",
      "Selling FRD on 2022-10-19, currently $9.35, for 15.43% profit\n",
      "Selling FRD on 2022-10-19, currently $9.35, for 15.43% profit\n",
      "Selling FRD on 2022-10-19, currently $9.35, for 15.43% profit\n",
      "Selling CABA on 2022-10-19, currently $1.3, for 22.64% profit\n",
      "Selling CABA on 2022-10-19, currently $1.3, for 22.64% profit\n",
      "Selling CABA on 2022-10-19, currently $1.3, for 22.64% profit\n",
      "Buying CABA on 2022-10-20, currently $1.25\n",
      "Buying VEII on 2022-10-20, currently $0.25\n",
      "Selling CABA on 2022-10-20, currently $1.96, for 56.8% profit\n",
      "Selling VRE on 2022-10-21, currently $15.31, for 20.65% profit\n",
      "Selling VOXX on 2022-10-21, currently $8.13, for 13.23% profit\n",
      "Buying MIST on 2022-10-24, currently $5.47\n",
      "Buying MIST on 2022-10-24, currently $5.47\n",
      "Buying MIST on 2022-10-24, currently $5.47\n",
      "Buying MIST on 2022-10-24, currently $5.47\n",
      "Selling ESTE on 2022-10-24, currently $15.19, for 10.31% profit\n",
      "Selling ESTE on 2022-10-24, currently $15.19, for 10.31% profit\n",
      "Selling NDLS on 2022-10-24, currently $5.65, for 10.78% profit\n",
      "Selling EMMA on 2022-10-24, currently $0.24, for 20.0% profit\n",
      "Selling FRD on 2022-10-24, currently $9.7, for 13.85% profit\n",
      "Selling OBTX on 2022-10-24, currently $4.47, for 17.02% profit\n",
      "Selling TELA on 2022-10-26, currently $9.0, for 11.94% profit\n",
      "Selling DAKT on 2022-10-26, currently $3.33, for 11.74% profit\n",
      "\n",
      "-----------------------------------------\n",
      "\n",
      "We invested $74. Our portfolio is now worth $80.87, giving a return of 9.29%.\n"
     ]
    }
   ],
   "source": [
    "SIM_START_DATE = min(test_XY.FilingDate)\n",
    "SIM_END_DATE = strftime(strptime(max(test_XY.FilingDate), '%Y-%m-%d') + dt.timedelta(days=DAYS_TO_LOOK_FORWARD), '%Y-%m-%d')\n",
    "\n",
    "my_sims.runTradeSimulation(\n",
    "    test_XY, 'XGB_Prediction', historicDat, SIM_START_DATE, SIM_END_DATE, buyThresh=10, sellThresh=10\n",
    ")"
   ]
  },
  {
   "cell_type": "markdown",
   "id": "078bd8e1-cd23-4835-aba9-7af5793768ae",
   "metadata": {},
   "source": [
    "## Success!\n",
    "From 2022-10-07 to 2022-10-25, the SPY ETF fund's price per share rose from \\\\$362.79 to \\\\$384.92, a 6.1% gain.\n",
    "\n",
    "Over this time period, with just 4 days of buying, our algorithm outperforms SPY by ***3.2 percentage points***.\n",
    "\n",
    "Looking forward, a good way to test our algorithm is to see if it still generates a profit during a period in which SPY declines."
   ]
  },
  {
   "cell_type": "markdown",
   "id": "68da737f-15e4-49cd-9ff7-c053a22410e2",
   "metadata": {},
   "source": [
    "### Here a few thoughts I have for model improvement...\n",
    "- **We need more data!** Perhaps 20,000 training examples isn't enough.\n",
    "- **We need to be aware of current market trends.** The stock market is dynamic. Insider buys might signal different outcomes depending on how the economy is doing as a whole. We can do more to take this into account than just using the current SPY value.\n",
    "- **For a neural model:** Perhaps categorization is the move, instead of regression. We could also have more outputs. We can use the Keras Functional API to have different activations in the final layer, such as\n",
    "    - a softmax output that places the expected X-day price increase into a *category*, and\n",
    "    - a sigmoid output predicting *where* in the X-day window the max price will occur\n",
    "- **For XGBoost:** Again, we might be better-served by predicting price categories (e.g. 0-1%, 1-5%, etc.) instead of actual price increase. This may help remove some of the extreme noise. (For example, a 20% run and a 40% run are both great things to identify, but our model would think it performed poorly if it respectively predicted 40% and 20%!)\n",
    "- **Other features:** I think that collecting Google Trends data regarding ticker search popularity could be helpful. Unfortunately, the Google Trends API rate limit of 10 requests/second is somewhat limiting.\n",
    "\n",
    "Also, we should keep in mind that individuals vary *a lot*. Some insiders do routine buys and don't try to be opportunistic, while others are the opposite. If we really wanted to go deep with our analysis, we might want to work with an LSTM framework that remembers particular insiders' decisions and their effectiveness."
   ]
  },
  {
   "cell_type": "code",
   "execution_count": null,
   "id": "3d6e4097-77c5-4da5-8ff6-11eb8fb383a5",
   "metadata": {},
   "outputs": [],
   "source": []
  }
 ],
 "metadata": {
  "kernelspec": {
   "display_name": "Python 3",
   "language": "python",
   "name": "python3"
  },
  "language_info": {
   "codemirror_mode": {
    "name": "ipython",
    "version": 3
   },
   "file_extension": ".py",
   "mimetype": "text/x-python",
   "name": "python",
   "nbconvert_exporter": "python",
   "pygments_lexer": "ipython3",
   "version": "3.8.8"
  }
 },
 "nbformat": 4,
 "nbformat_minor": 5
}
